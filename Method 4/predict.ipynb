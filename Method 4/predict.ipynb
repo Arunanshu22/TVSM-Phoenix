{
 "cells": [
  {
   "cell_type": "code",
   "execution_count": 37,
   "metadata": {},
   "outputs": [
    {
     "name": "stdout",
     "output_type": "stream",
     "text": [
      "Iron Tomb Archives Wednesday Violence\n"
     ]
    },
    {
     "data": {
      "text/plain": [
       "['Iron_RandomForest_model.joblib',\n",
       " 'Tomb_RandomForest_model.joblib',\n",
       " 'Archives_KNN_model.joblib',\n",
       " 'Wednesday_RandomForest_model.joblib',\n",
       " 'Violence_RandomForest_model.joblib']"
      ]
     },
     "execution_count": 37,
     "metadata": {},
     "output_type": "execute_result"
    }
   ],
   "source": [
    "import random\n",
    "import os\n",
    "\n",
    "words = ['Environment', 'Archives', 'Pronunciation', \n",
    "         'Hour', 'Wednesday', 'Violence', 'Tomb', 'Suite', \n",
    "         'Iron', 'Receipt', 'Chores']\n",
    "random_words = random.sample(words, 5)\n",
    "random_string = ' '.join(random_words)\n",
    "print(random_string)\n",
    "\n",
    "# Directory path to traverse\n",
    "directory_path = 'models/'\n",
    "models = []\n",
    "\n",
    "for word in random_words:\n",
    "    for file in os.listdir(directory_path):\n",
    "        if word in file:\n",
    "            models.append(file)\n",
    "\n",
    "models    "
   ]
  },
  {
   "cell_type": "code",
   "execution_count": 28,
   "metadata": {},
   "outputs": [
    {
     "data": {
      "text/plain": [
       "'Hour Wednesday Iron Reciept Environment'"
      ]
     },
     "execution_count": 28,
     "metadata": {},
     "output_type": "execute_result"
    }
   ],
   "source": []
  }
 ],
 "metadata": {
  "kernelspec": {
   "display_name": "Python 3",
   "language": "python",
   "name": "python3"
  },
  "language_info": {
   "codemirror_mode": {
    "name": "ipython",
    "version": 3
   },
   "file_extension": ".py",
   "mimetype": "text/x-python",
   "name": "python",
   "nbconvert_exporter": "python",
   "pygments_lexer": "ipython3",
   "version": "3.10.7"
  }
 },
 "nbformat": 4,
 "nbformat_minor": 2
}
