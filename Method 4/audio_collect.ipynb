{
 "cells": [
  {
   "cell_type": "code",
   "execution_count": 1,
   "metadata": {},
   "outputs": [],
   "source": [
    "# Code to collect 10 iterations of 20 words - 3 seconds each (10 minutes)"
   ]
  },
  {
   "cell_type": "code",
   "execution_count": 16,
   "metadata": {},
   "outputs": [
    {
     "name": "stdout",
     "output_type": "stream",
     "text": [
      "Defaulting to user installation because normal site-packages is not writeable\n",
      "Collecting wavio\n",
      "  Using cached wavio-0.0.8-py3-none-any.whl (9.4 kB)\n",
      "Requirement already satisfied: numpy>=1.19.0 in c:\\users\\dell\\appdata\\roaming\\python\\python310\\site-packages (from wavio) (1.26.3)\n",
      "Installing collected packages: wavio\n",
      "Successfully installed wavio-0.0.8\n",
      "Note: you may need to restart the kernel to use updated packages.\n"
     ]
    },
    {
     "name": "stderr",
     "output_type": "stream",
     "text": [
      "\n",
      "[notice] A new release of pip available: 22.2.2 -> 23.3.2\n",
      "[notice] To update, run: python.exe -m pip install --upgrade pip\n"
     ]
    }
   ],
   "source": [
    "%pip install wavio"
   ]
  },
  {
   "cell_type": "code",
   "execution_count": 18,
   "metadata": {},
   "outputs": [
    {
     "name": "stdout",
     "output_type": "stream",
     "text": [
      "Recording file audio_files/Arun1Environment.wav\n",
      "Recorded file audio_files/Arun1Environment.wav\n",
      "Recording file audio_files/Arun2Environment.wav\n",
      "Recorded file audio_files/Arun2Environment.wav\n",
      "Recording file audio_files/Arun1Archives.wav\n",
      "Recorded file audio_files/Arun1Archives.wav\n",
      "Recording file audio_files/Arun2Archives.wav\n",
      "Recorded file audio_files/Arun2Archives.wav\n",
      "Recording file audio_files/Arun1Pronounciation.wav\n",
      "Recorded file audio_files/Arun1Pronounciation.wav\n",
      "Recording file audio_files/Arun2Pronounciation.wav\n",
      "Recorded file audio_files/Arun2Pronounciation.wav\n",
      "Recording file audio_files/Arun1Hour.wav\n",
      "Recorded file audio_files/Arun1Hour.wav\n",
      "Recording file audio_files/Arun2Hour.wav\n",
      "Recorded file audio_files/Arun2Hour.wav\n",
      "Recording file audio_files/Arun1Wednesday.wav\n",
      "Recorded file audio_files/Arun1Wednesday.wav\n",
      "Recording file audio_files/Arun2Wednesday.wav\n",
      "Recorded file audio_files/Arun2Wednesday.wav\n",
      "Recording file audio_files/Arun1Violence.wav\n",
      "Recorded file audio_files/Arun1Violence.wav\n",
      "Recording file audio_files/Arun2Violence.wav\n",
      "Recorded file audio_files/Arun2Violence.wav\n",
      "Recording file audio_files/Arun1Tomb.wav\n",
      "Recorded file audio_files/Arun1Tomb.wav\n",
      "Recording file audio_files/Arun2Tomb.wav\n",
      "Recorded file audio_files/Arun2Tomb.wav\n",
      "Recording file audio_files/Arun1Suite.wav\n",
      "Recorded file audio_files/Arun1Suite.wav\n",
      "Recording file audio_files/Arun2Suite.wav\n",
      "Recorded file audio_files/Arun2Suite.wav\n",
      "Recording file audio_files/Arun1Iron.wav\n",
      "Recorded file audio_files/Arun1Iron.wav\n",
      "Recording file audio_files/Arun2Iron.wav\n",
      "Recorded file audio_files/Arun2Iron.wav\n",
      "Recording file audio_files/Arun1Reciept.wav\n",
      "Recorded file audio_files/Arun1Reciept.wav\n",
      "Recording file audio_files/Arun2Reciept.wav\n",
      "Recorded file audio_files/Arun2Reciept.wav\n",
      "Recording file audio_files/Arun1Chores.wav\n",
      "Recorded file audio_files/Arun1Chores.wav\n",
      "Recording file audio_files/Arun2Chores.wav\n",
      "Recorded file audio_files/Arun2Chores.wav\n"
     ]
    }
   ],
   "source": [
    "import sounddevice as sd\n",
    "from scipy.io.wavfile import write\n",
    "import wavio as wv\n",
    "\n",
    "name = input(\"Enter your name: \")\n",
    "freq = 44100\n",
    "duration = 3\n",
    "\n",
    "words = ['Environment', 'Archives', 'Pronounciation', 'Hour', 'Wednesday', 'Violence', 'Tomb', \n",
    "         'Suite', 'Iron', 'Reciept', 'Chores'] \n",
    "\n",
    "for word in words:\n",
    "    for i in range(2):\n",
    "        file_name = \"audio_files/\" + name + str(i+1) + word + '.wav'\n",
    "        print(\"Recording file \" + file_name)\n",
    "        recording = sd.rec(int(duration * freq), samplerate=freq, channels=2)\n",
    "        sd.wait()\n",
    "        write(file_name, freq, recording)\n",
    "        print(\"Recorded file \" + file_name)"
   ]
  }
 ],
 "metadata": {
  "kernelspec": {
   "display_name": "Python 3",
   "language": "python",
   "name": "python3"
  },
  "language_info": {
   "codemirror_mode": {
    "name": "ipython",
    "version": 3
   },
   "file_extension": ".py",
   "mimetype": "text/x-python",
   "name": "python",
   "nbconvert_exporter": "python",
   "pygments_lexer": "ipython3",
   "version": "3.10.7"
  }
 },
 "nbformat": 4,
 "nbformat_minor": 2
}
