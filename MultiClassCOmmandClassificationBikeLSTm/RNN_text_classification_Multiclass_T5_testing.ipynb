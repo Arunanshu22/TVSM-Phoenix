{
 "cells": [
  {
   "cell_type": "code",
   "execution_count": 1,
   "metadata": {},
   "outputs": [
    {
     "name": "stdout",
     "output_type": "stream",
     "text": [
      "WARNING:tensorflow:From C:\\Users\\anirban.saha\\AppData\\Local\\Packages\\PythonSoftwareFoundation.Python.3.11_qbz5n2kfra8p0\\LocalCache\\local-packages\\Python311\\site-packages\\keras\\src\\losses.py:2976: The name tf.losses.sparse_softmax_cross_entropy is deprecated. Please use tf.compat.v1.losses.sparse_softmax_cross_entropy instead.\n",
      "\n"
     ]
    }
   ],
   "source": [
    "import pandas as pd\n",
    "import numpy as np\n",
    "from sklearn.model_selection import train_test_split\n",
    "from tensorflow.keras.preprocessing.text import Tokenizer\n",
    "from tensorflow.keras.preprocessing.sequence import pad_sequences\n",
    "from tensorflow.keras.models import Sequential\n",
    "from tensorflow.keras.layers import Embedding, LSTM, Dense\n",
    "from tensorflow.keras.utils import to_categorical\n",
    "import joblib\n"
   ]
  },
  {
   "cell_type": "code",
   "execution_count": 21,
   "metadata": {},
   "outputs": [],
   "source": [
    "# Function to predict the class of a command\n",
    "def predict_class(command,tokenizer,model,max_sequence_length):\n",
    "    sequence = tokenizer.texts_to_sequences([command])\n",
    "    padded_sequence = pad_sequences(sequence, maxlen=max_sequence_length, padding='post')\n",
    "    prediction = model.predict(padded_sequence)\n",
    "    predicted_class_index = np.argmax(prediction)\n",
    "    return predicted_class_index"
   ]
  },
  {
   "cell_type": "code",
   "execution_count": 23,
   "metadata": {},
   "outputs": [],
   "source": [
    "def Edge_Model(subclasscat,command):\n",
    "    # Load the model from and tokenizer\n",
    "    model = joblib.load('./RNN_save_model/'+subclasscat+'/RNN_Multiclass_SubclassCategory.joblib')\n",
    "    tokenizer = joblib.load('./RNN_save_model/'+subclasscat+'/tokenizer.joblib')\n",
    "    max_sequence_length=joblib.load('./RNN_save_model/'+subclasscat+'/max_sequence_length.joblib')\n",
    "    \n",
    "    prediction = predict_class(command, tokenizer,model, max_sequence_length)\n",
    "    if(prediction==0):\n",
    "        print(\"Edge -> Battery Fuel:\", prediction)\n",
    "    elif(prediction==1):\n",
    "        print(\"Edge -> Tires:\", prediction)\n",
    "    elif(prediction==2):\n",
    "        print(\"Edge -> Greetings :\",prediction)\n",
    "    elif(prediction==3):\n",
    "        print(\"Edge -> Basic :\",prediction)\n",
    "    else:\n",
    "        print(\"Dont know\")\n",
    "        \n",
    "    "
   ]
  },
  {
   "cell_type": "code",
   "execution_count": 24,
   "metadata": {},
   "outputs": [],
   "source": [
    "def Cloud_Model(subclasscat,command):\n",
    "    # Load the model from and tokenizer\n",
    "    model = joblib.load('./RNN_save_model/'+subclasscat+'/RNN_Multiclass_SubclassCategory.joblib')\n",
    "    tokenizer = joblib.load('./RNN_save_model/'+subclasscat+'/tokenizer.joblib')\n",
    "    max_sequence_length=joblib.load('./RNN_save_model/'+subclasscat+'/max_sequence_length.joblib')\n",
    "    \n",
    "    print(command)\n",
    "    prediction = predict_class(command, tokenizer,model, max_sequence_length)\n",
    "    if(prediction==0):\n",
    "        print(\"Cloud -> Song Media:\", prediction)\n",
    "    elif(prediction==1):\n",
    "        print(\"Cloud -> News Notification:\", prediction)\n",
    "    elif(prediction==2):\n",
    "        print(\"Cloud -> Weather :\",prediction)\n",
    "    elif(prediction==3):\n",
    "        print(\"Cloud -> Traffic Maps :\",prediction)\n",
    "    else:\n",
    "        print(\"Dont know\")\n",
    "        "
   ]
  },
  {
   "cell_type": "code",
   "execution_count": 25,
   "metadata": {},
   "outputs": [],
   "source": [
    "def Update_Model(subclasscat,command):\n",
    "    # Load the model from and tokenizer\n",
    "    model = joblib.load('./RNN_save_model/'+subclasscat+'/RNN_Multiclass_SubclassCategory.joblib')\n",
    "    tokenizer = joblib.load('./RNN_save_model/'+subclasscat+'/tokenizer.joblib')\n",
    "    max_sequence_length=joblib.load('./RNN_save_model/'+subclasscat+'/max_sequence_length.joblib')\n",
    "    \n",
    "    print(command)\n",
    "    prediction = predict_class(command, tokenizer,model, max_sequence_length)\n",
    "    if(prediction==0):\n",
    "        print(\"Update -> Cancel:\", prediction)\n",
    "    elif(prediction==1):\n",
    "        print(\"Update -> Perform:\", prediction)\n",
    "    elif(prediction==2):\n",
    "        print(\"Update -> Check:\",prediction)\n",
    "    else:\n",
    "        print(\"Dont know\")"
   ]
  },
  {
   "cell_type": "code",
   "execution_count": 28,
   "metadata": {},
   "outputs": [],
   "source": [
    "def Main_model(subclasscat,command):\n",
    "    # Load the model from file\n",
    "    model = joblib.load('./RNN_save_model/'+subclasscat+'/RNN_Multiclass_Subclass.joblib')\n",
    "    tokenizer = joblib.load('./RNN_save_model/'+subclasscat+'/tokenizer.joblib')\n",
    "    max_sequence_length=joblib.load('./RNN_save_model/'+subclasscat+'/max_sequence_length_mainModel.joblib')\n",
    "\n",
    "    prediction = predict_class(command, tokenizer,model, max_sequence_length)\n",
    "    if(prediction==0):\n",
    "        print(\"Edge :\", prediction)\n",
    "        subclasscat=\"EDGE\"\n",
    "        Edge_Model(subclasscat,command)\n",
    "    elif(prediction==1):\n",
    "        print(\"Cloud :\", prediction)\n",
    "        subclasscat=\"CLOUD\"\n",
    "        Cloud_Model(subclasscat,command)\n",
    "    elif(prediction==2):\n",
    "        print(\"Update :\",prediction)\n",
    "        subclasscat=\"UPDATE\"\n",
    "        Update_Model(subclasscat,command)\n",
    "    elif(prediction==3):\n",
    "        print(\"Miscellaneous :\",prediction)\n",
    "    else:\n",
    "        print(\"Dont know\")"
   ]
  },
  {
   "cell_type": "code",
   "execution_count": 29,
   "metadata": {},
   "outputs": [
    {
     "name": "stdout",
     "output_type": "stream",
     "text": [
      "check for update\n",
      "WARNING:tensorflow:6 out of the last 7 calls to <function Model.make_predict_function.<locals>.predict_function at 0x000001FF960AE8E0> triggered tf.function retracing. Tracing is expensive and the excessive number of tracings could be due to (1) creating @tf.function repeatedly in a loop, (2) passing tensors with different shapes, (3) passing Python objects instead of tensors. For (1), please define your @tf.function outside of the loop. For (2), @tf.function has reduce_retracing=True option that can avoid unnecessary retracing. For (3), please refer to https://www.tensorflow.org/guide/function#controlling_retracing and https://www.tensorflow.org/api_docs/python/tf/function for  more details.\n",
      "1/1 [==============================] - 1s 1s/step\n",
      "Update : 2\n",
      "check for update\n",
      "1/1 [==============================] - 1s 1s/step\n",
      "Update -> Check: 2\n"
     ]
    }
   ],
   "source": [
    "#Example usage:\n",
    "subclasscat=\"MAINMODEL\"\n",
    "command = input(\"Enter a command: \")\n",
    "print(command)\n",
    "Main_model(subclasscat,command)\n",
    "    "
   ]
  },
  {
   "cell_type": "code",
   "execution_count": null,
   "metadata": {},
   "outputs": [],
   "source": [
    "#start engine\n",
    "#stop engine\n",
    "#update engine\n",
    "#goto leh via goa"
   ]
  },
  {
   "cell_type": "code",
   "execution_count": null,
   "metadata": {},
   "outputs": [],
   "source": [
    "#######################################################################################################################"
   ]
  }
 ],
 "metadata": {
  "kernelspec": {
   "display_name": "Python 3",
   "language": "python",
   "name": "python3"
  },
  "language_info": {
   "codemirror_mode": {
    "name": "ipython",
    "version": 3
   },
   "file_extension": ".py",
   "mimetype": "text/x-python",
   "name": "python",
   "nbconvert_exporter": "python",
   "pygments_lexer": "ipython3",
   "version": "3.11.9"
  }
 },
 "nbformat": 4,
 "nbformat_minor": 2
}
