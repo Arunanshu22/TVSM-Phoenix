{
  "cells": [
    {
      "cell_type": "markdown",
      "metadata": {
        "id": "Kmg2oX1-sIBB"
      },
      "source": [
        "# Bike Update Command Classification Testing"
      ]
    },
    {
      "cell_type": "markdown",
      "metadata": {
        "id": "S57OW0kjrjO6"
      },
      "source": [
        "# 1) Load the Random Forest Model for testing of bike vs non bike update command"
      ]
    },
    {
      "cell_type": "code",
      "execution_count": 1,
      "metadata": {},
      "outputs": [],
      "source": [
        "####################################################################\n",
        "######################Update not update Bike Command Classification#####################\n",
        "import numpy as np\n",
        "import pandas as pd\n",
        "import matplotlib.pyplot as plt\n",
        "import joblib\n"
      ]
    },
    {
      "cell_type": "code",
      "execution_count": 33,
      "metadata": {},
      "outputs": [],
      "source": [
        "def predict(test_str, model):\n",
        "    if (model.predict(test_str) == 1):\n",
        "        result=\"The input is a bike update command.\"\n",
        "    else:\n",
        "        result=\"The input is not a bike update command.\"\n",
        "    return result"
      ]
    },
    {
      "cell_type": "code",
      "execution_count": 2,
      "metadata": {},
      "outputs": [],
      "source": [
        "#Load the model for Random Forest\n",
        "model = joblib.load('RF_update_bike_command_vs_update_non_bike_command.pkl')"
      ]
    },
    {
      "cell_type": "code",
      "execution_count": 34,
      "metadata": {},
      "outputs": [
        {
          "name": "stdout",
          "output_type": "stream",
          "text": [
            "The input is not a bike update command.\n",
            "The input is not a bike update command.\n",
            "The input is not a bike update command.\n",
            "The input is a bike update command.\n",
            "The input is a bike update command.\n",
            "The input is not a bike update command.\n",
            "The input is not a bike update command.\n"
          ]
        }
      ],
      "source": [
        "test_str = ['Start the motor bike now']\n",
        "print(predict(test_str,model))\n",
        "test_str = ['On the right indicator']\n",
        "print(predict(test_str,model))\n",
        "test_str = ['Congratulations, You won a lottery ticket worth $1 Million ! To claim call on 446677']\n",
        "print(predict(test_str,model))\n",
        "test_str=['Perform bike software update']\n",
        "print(predict(test_str,model))\n",
        "test_str=['Can you show me previous week bike update history']\n",
        "print(predict(test_str,model))\n",
        "test_str=['Update my mobile IOS']\n",
        "print(predict(test_str,model))\n",
        "test_str=['Please start my mobile update']\n",
        "print(predict(test_str,model))"
      ]
    },
    {
      "cell_type": "markdown",
      "metadata": {},
      "source": [
        "# 4) Load the model SVM for classification of bike Update vs non Bike update command"
      ]
    },
    {
      "cell_type": "code",
      "execution_count": 10,
      "metadata": {},
      "outputs": [],
      "source": [
        "model = joblib.load('SVM_update_bike_command_vs_update_non_bike_command.pkl')"
      ]
    },
    {
      "cell_type": "code",
      "execution_count": 32,
      "metadata": {},
      "outputs": [
        {
          "name": "stdout",
          "output_type": "stream",
          "text": [
            "The input is not a bike update command.\n",
            "The input is not a bike update command.\n",
            "The input is not a bike update command.\n",
            "The input is a bike update command.\n",
            "The input is a bike update command.\n",
            "The input is not a bike update command.\n",
            "The input is not a bike update command.\n"
          ]
        }
      ],
      "source": [
        "test_str = ['Start the motor bike now']\n",
        "print(predict(test_str,model))\n",
        "test_str = ['On the right indicator']\n",
        "print(predict(test_str,model))\n",
        "test_str = ['Congratulations, You won a lottery ticket worth $1 Million ! To claim call on 446677']\n",
        "print(predict(test_str,model))\n",
        "test_str=['Perform bike software update']\n",
        "print(predict(test_str,model))\n",
        "test_str=['Can you show me previous week bike update history']\n",
        "print(predict(test_str,model))\n",
        "test_str=['Update my mobile IOS']\n",
        "print(predict(test_str,model))\n",
        "test_str=['Please start my mobile update']\n",
        "print(predict(test_str,model))"
      ]
    }
  ],
  "metadata": {
    "colab": {
      "provenance": []
    },
    "kernelspec": {
      "display_name": "Python 3",
      "name": "python3"
    },
    "language_info": {
      "codemirror_mode": {
        "name": "ipython",
        "version": 3
      },
      "file_extension": ".py",
      "mimetype": "text/x-python",
      "name": "python",
      "nbconvert_exporter": "python",
      "pygments_lexer": "ipython3",
      "version": "3.11.8"
    }
  },
  "nbformat": 4,
  "nbformat_minor": 0
}
