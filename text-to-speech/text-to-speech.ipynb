{
 "cells": [
  {
   "cell_type": "code",
   "execution_count": 17,
   "metadata": {},
   "outputs": [],
   "source": [
    "#! pip install gTTS"
   ]
  },
  {
   "cell_type": "code",
   "execution_count": 18,
   "metadata": {},
   "outputs": [],
   "source": [
    "from gtts import gTTS\n",
    "from IPython.display import Audio, display"
   ]
  },
  {
   "cell_type": "code",
   "execution_count": 22,
   "metadata": {},
   "outputs": [],
   "source": [
    "text=\"Hello Sunamdha, how are you doing ?\"\n",
    "speech=gTTS(text,lang = 'hi',slow = True ,lang_check = True)\n",
    "speech.save(\"hello.mp3\")"
   ]
  },
  {
   "cell_type": "code",
   "execution_count": 21,
   "metadata": {},
   "outputs": [
    {
     "data": {
      "text/html": [
       "\n",
       "                <audio  controls=\"controls\" autoplay=\"autoplay\">\n",
       "                    <source src=\"data:audio/mpeg;base64,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\" type=\"audio/mpeg\" />\n",
       "                    Your browser does not support the audio element.\n",
       "                </audio>\n",
       "              "
      ],
      "text/plain": [
       "<IPython.lib.display.Audio object>"
      ]
     },
     "metadata": {},
     "output_type": "display_data"
    }
   ],
   "source": [
    "display(Audio('hello.mp3', autoplay=True))"
   ]
  },
  {
   "cell_type": "code",
   "execution_count": null,
   "metadata": {},
   "outputs": [],
   "source": []
  }
 ],
 "metadata": {
  "kernelspec": {
   "display_name": "Python 3",
   "language": "python",
   "name": "python3"
  },
  "language_info": {
   "codemirror_mode": {
    "name": "ipython",
    "version": 3
   },
   "file_extension": ".py",
   "mimetype": "text/x-python",
   "name": "python",
   "nbconvert_exporter": "python",
   "pygments_lexer": "ipython3",
   "version": "3.11.7"
  }
 },
 "nbformat": 4,
 "nbformat_minor": 2
}
