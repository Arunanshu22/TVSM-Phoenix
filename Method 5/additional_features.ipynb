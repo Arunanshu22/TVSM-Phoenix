{
 "cells": [
  {
   "cell_type": "code",
   "execution_count": 1,
   "metadata": {},
   "outputs": [],
   "source": [
    "# Extract as many features as possible from each word clip and add these cols as X for each word df\n",
    "# inspired from sunamdha branch code\n",
    "# check if PCA needed or not and create df's"
   ]
  },
  {
   "cell_type": "code",
   "execution_count": 2,
   "metadata": {},
   "outputs": [],
   "source": [
    "# change below code to accomodate 3 second clip feature extraction"
   ]
  },
  {
   "cell_type": "code",
   "execution_count": null,
   "metadata": {},
   "outputs": [],
   "source": [
    "# df for Arun\n",
    "import librosa\n",
    "import pandas as pd\n",
    "# import pyrubberband\n",
    "\n",
    "# Load the audio file\n",
    "audio, sr = librosa.load(\"Complete Dataset/Individual Voices - Train/Arunanshu/arun.wav\", sr=44100)\n",
    "\n",
    "# Convert the sample rate to integer\n",
    "sr = int(sr)\n",
    "\n",
    "# Calculate the total number of clips\n",
    "clip_duration = 5\n",
    "clip_samples = int(sr * clip_duration)\n",
    "total_clips = len(audio) // clip_samples\n",
    "\n",
    "# Create the output DataFrame\n",
    "columns = [\"Names\"] + [f\"MFCC_{i+1}\" for i in range(13)] + [\"Chroma\", \"SpectralContrast\", \"Tonnetz\", \"ZeroCrossingRate\", \"RMSEnergy\"] + [f\"LogMelFilterbank_{i+1}\" for i in range(30)]+ [\"RASTA-PLP\"]\n",
    "dfArun = pd.DataFrame(columns=columns)\n",
    "dfArun[\"Names\"] = \"Arunanshu\"\n",
    "\n",
    "# Split the audio into clips and extract features for each clip\n",
    "for i in range(total_clips):\n",
    "    clip_start = i * clip_samples\n",
    "    clip_end = (i + 1) * clip_samples\n",
    "    clip = audio[clip_start:clip_end]\n",
    "\n",
    "    # Extract MFCCs\n",
    "    mfccs = librosa.feature.mfcc(y=clip, sr=sr, n_mfcc=13, hop_length=512, n_fft=2048)\n",
    "    mfccs_flattened = mfccs.mean(axis=1)\n",
    "\n",
    "    # Extract Chroma features\n",
    "    chroma = librosa.feature.chroma_stft(y=clip, sr=sr)\n",
    "\n",
    "    # Extract Spectral Contrast\n",
    "    contrast = librosa.feature.spectral_contrast(y=clip, sr=sr)\n",
    "\n",
    "    # Extract Tonnetz features\n",
    "    tonnetz = librosa.feature.tonnetz(y=clip, sr=sr)\n",
    "\n",
    "    # Extract Zero Crossing Rate\n",
    "    zero_crossings = librosa.feature.zero_crossing_rate(y=clip)\n",
    "\n",
    "    # Extract RMS Energy\n",
    "    rms_energy = librosa.feature.rms(y=clip)\n",
    "\n",
    "    # Extract Log Mel Filterbank Energies with 30 mel filterbanks\n",
    "    mel_filterbank_energies = librosa.feature.melspectrogram(y=clip, sr=sr, n_mels=30)\n",
    "    log_mel_filterbank_energies = librosa.power_to_db(mel_filterbank_energies)\n",
    "\n",
    "    # Extract the mean of Log Mel Filterbank Energies along the time axis\n",
    "    log_mel_filterbank_energies_flattened = log_mel_filterbank_energies.mean(axis=1).tolist()\n",
    "    \n",
    "    rasta_plp_features = rasta_plp_feature_extraction(clip, sr)\n",
    "   # print(np.mean(rasta_plp_features.tolist()))\n",
    "\n",
    "    # Concatenate all features into a single row\n",
    "    row_values = [\"Arunanshu\"] + mfccs_flattened.tolist() + [chroma.mean(), contrast.mean(), tonnetz.mean(), zero_crossings.mean(), rms_energy.mean()] + log_mel_filterbank_energies_flattened + [np.mean(rasta_plp_features.tolist())]\n",
    "\n",
    "\n",
    "    \n",
    "    # Append the row to the DataFrame\n",
    "    dfArun = dfArun._append(pd.Series(row_values, index=dfArun.columns), ignore_index=True)\n",
    "\n",
    "\n",
    "# Display the resulting DataFrame\n",
    "dfArun"
   ]
  }
 ],
 "metadata": {
  "kernelspec": {
   "display_name": "AdjustedPythonVirtEnv",
   "language": "python",
   "name": "python3"
  },
  "language_info": {
   "codemirror_mode": {
    "name": "ipython",
    "version": 3
   },
   "file_extension": ".py",
   "mimetype": "text/x-python",
   "name": "python",
   "nbconvert_exporter": "python",
   "pygments_lexer": "ipython3",
   "version": "3.11.7"
  }
 },
 "nbformat": 4,
 "nbformat_minor": 2
}
