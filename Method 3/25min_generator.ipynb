{
 "cells": [
  {
   "cell_type": "code",
   "execution_count": 4,
   "metadata": {},
   "outputs": [],
   "source": [
    "import os\n",
    "import wave\n",
    "\n",
    "def merge_top_level_folders(input_folder, output_folder):\n",
    "    # Get a list of all top-level folders in the input directory\n",
    "    top_level_folders = [folder for folder in os.listdir(input_folder) if os.path.isdir(os.path.join(input_folder, folder))]\n",
    "\n",
    "    # Iterate through each top-level folder\n",
    "    for top_level_folder in top_level_folders:\n",
    "        folder_path = os.path.join(input_folder, top_level_folder)\n",
    "\n",
    "        # Get a list of all WAV files in all subfolders\n",
    "        all_wav_files = []\n",
    "        for root, _, filenames in os.walk(folder_path):\n",
    "            wav_files = [f for f in filenames if f.lower().endswith('.wav')]\n",
    "            if wav_files:\n",
    "                all_wav_files.extend([(root, wav_file) for wav_file in wav_files])\n",
    "\n",
    "        # Create the output folder if it doesn't exist\n",
    "        os.makedirs(output_folder, exist_ok=True)\n",
    "\n",
    "        # Combine all WAV files into one\n",
    "        output_file_path = os.path.join(output_folder, f\"{top_level_folder}_combined.wav\")\n",
    "        merge_wav_files(all_wav_files, output_file_path)\n",
    "\n",
    "if __name__ == \"__main__\":\n",
    "    # Replace 'input_folder' and 'output_folder' with your actual folder paths\n",
    "    input_folder = 'C:/Users/Dell/Desktop/EDU/FUN PROJECTS/Pheonix/Method 3/archive/vox1_indian/content/vox_indian/'\n",
    "    output_folder = 'C:/Users/Dell/Desktop/EDU/FUN PROJECTS/Pheonix/Method 3/archive/vox1_indian/content/combined_wav/'\n",
    "\n",
    "    merge_top_level_folders(input_folder, output_folder)"
   ]
  }
 ],
 "metadata": {
  "kernelspec": {
   "display_name": "Python 3",
   "language": "python",
   "name": "python3"
  },
  "language_info": {
   "codemirror_mode": {
    "name": "ipython",
    "version": 3
   },
   "file_extension": ".py",
   "mimetype": "text/x-python",
   "name": "python",
   "nbconvert_exporter": "python",
   "pygments_lexer": "ipython3",
   "version": "3.10.7"
  }
 },
 "nbformat": 4,
 "nbformat_minor": 2
}
