{
 "cells": [
  {
   "cell_type": "code",
   "execution_count": 1,
   "metadata": {},
   "outputs": [],
   "source": [
    "import os\n",
    "import wave\n",
    "\n",
    "def merge_wav_files(wav_files, output_file_path):\n",
    "    # Initialize the output wave file\n",
    "    with wave.open(output_file_path, 'w') as output_wave:\n",
    "        # Set the output wave file parameters based on the first input file\n",
    "        first_folder, first_wav_file = wav_files[0]\n",
    "        first_wav_path = os.path.join(first_folder, first_wav_file)\n",
    "        with wave.open(first_wav_path, 'rb') as first_wav:\n",
    "            output_wave.setnchannels(first_wav.getnchannels())\n",
    "            output_wave.setsampwidth(first_wav.getsampwidth())\n",
    "            output_wave.setframerate(first_wav.getframerate())\n",
    "\n",
    "        # Iterate through each WAV file and append its content to the output file\n",
    "        for folder, wav_file in wav_files:\n",
    "            wav_file_path = os.path.join(folder, wav_file)\n",
    "            with wave.open(wav_file_path, 'rb') as input_wave:\n",
    "                output_wave.writeframes(input_wave.readframes(input_wave.getnframes()))\n",
    "\n",
    "def merge_top_level_folders(input_folder, output_folder):\n",
    "    # Get a list of all top-level folders in the input directory\n",
    "    top_level_folders = [folder for folder in os.listdir(input_folder) if os.path.isdir(os.path.join(input_folder, folder))]\n",
    "\n",
    "    # Iterate through each top-level folder\n",
    "    for top_level_folder in top_level_folders:\n",
    "        folder_path = os.path.join(input_folder, top_level_folder)\n",
    "\n",
    "        # Get a list of all WAV files in all subfolders\n",
    "        all_wav_files = []\n",
    "        for root, _, filenames in os.walk(folder_path):\n",
    "            wav_files = [f for f in filenames if f.lower().endswith('.wav')]\n",
    "            if wav_files:\n",
    "                all_wav_files.extend([(root, wav_file) for wav_file in wav_files])\n",
    "\n",
    "        # Create the output folder if it doesn't exist\n",
    "        os.makedirs(output_folder, exist_ok=True)\n",
    "\n",
    "        # Combine all WAV files into one\n",
    "        output_file_path = os.path.join(output_folder, f\"{top_level_folder}_combined.wav\")\n",
    "        merge_wav_files(all_wav_files, output_file_path)\n",
    "\n",
    "if __name__ == \"__main__\":\n",
    "    # Replace 'input_folder' and 'output_folder' with your actual folder paths\n",
    "    input_folder = 'C:/Users/Dell/Desktop/EDU/FUN PROJECTS/Pheonix/Method 3/archive/vox1_indian/content/vox_indian/'\n",
    "    output_folder = 'C:/Users/Dell/Desktop/EDU/FUN PROJECTS/Pheonix/Method 3/archive/vox1_indian/content/combined_wav/'\n",
    "\n",
    "    merge_top_level_folders(input_folder, output_folder)"
   ]
  }
 ],
 "metadata": {
  "kernelspec": {
   "display_name": "Python 3",
   "language": "python",
   "name": "python3"
  },
  "language_info": {
   "codemirror_mode": {
    "name": "ipython",
    "version": 3
   },
   "file_extension": ".py",
   "mimetype": "text/x-python",
   "name": "python",
   "nbconvert_exporter": "python",
   "pygments_lexer": "ipython3",
   "version": "3.10.7"
  }
 },
 "nbformat": 4,
 "nbformat_minor": 2
}
