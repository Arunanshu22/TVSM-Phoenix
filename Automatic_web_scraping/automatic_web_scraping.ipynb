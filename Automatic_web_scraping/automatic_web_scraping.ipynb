{
 "cells": [
  {
   "cell_type": "code",
   "execution_count": 54,
   "metadata": {},
   "outputs": [],
   "source": [
    "from selenium.webdriver.chrome.options import Options\n",
    "from webdriver_manager.chrome import ChromeDriverManager\n",
    "from selenium import webdriver\n",
    "from selenium.webdriver.chrome.service import Service\n",
    "import random\n",
    "import time"
   ]
  },
  {
   "cell_type": "code",
   "execution_count": 55,
   "metadata": {},
   "outputs": [],
   "source": [
    "# query = input(\"Please enter text to be converted - \")\n",
    "query = \"যুক্তরাষ্ট্রে জীবন কেমন চলছে\""
   ]
  },
  {
   "cell_type": "code",
   "execution_count": 56,
   "metadata": {},
   "outputs": [],
   "source": [
    "# service = Service()\n",
    "# options = webdriver.ChromeOptions()\n",
    "# driver = webdriver.Chrome(service=service, options=options)"
   ]
  },
  {
   "cell_type": "code",
   "execution_count": 67,
   "metadata": {},
   "outputs": [
    {
     "name": "stdout",
     "output_type": "stream",
     "text": [
      "Yuktarāṣṭrē jībana kēmana calachē\n",
      "How is life in the US?\n"
     ]
    }
   ],
   "source": [
    "service = Service()\n",
    "\n",
    "options = Options()\n",
    "options.add_experimental_option('detach', True)\n",
    "options.headless = True  # Run Chrome in headless mode\n",
    "# driver = webdriver.Chrome(service=Service(ChromeDriverManager().install()),\n",
    "#                           options=options)\n",
    "driver = webdriver.Chrome(service=service, options=options)\n",
    "thing = \"translate\"\n",
    "url = \"https://www.google.com/search?q=\" + thing\n",
    "driver.get(url)\n",
    "driver.maximize_window()\n",
    "links = driver.find_elements(\"xpath\", \"//textarea\")\n",
    "second_textarea = links[1]\n",
    "second_textarea.clear()  # Clear any existing text\n",
    "second_textarea.send_keys(query)\n",
    "links_new = driver.find_elements(\"xpath\", \"//span[@class='Y2IQFc']\")\n",
    "time.sleep(0.5)\n",
    "#print(links_new[0])\n",
    "print(links_new[1].text)\n",
    "print(links_new[2].text)\n",
    "#print(links_new[3])\n",
    "# driver.quit()"
   ]
  },
  {
   "cell_type": "code",
   "execution_count": 62,
   "metadata": {},
   "outputs": [],
   "source": [
    "driver.quit()"
   ]
  },
  {
   "cell_type": "code",
   "execution_count": null,
   "metadata": {},
   "outputs": [],
   "source": []
  }
 ],
 "metadata": {
  "kernelspec": {
   "display_name": "GoogleAutomated",
   "language": "python",
   "name": "python3"
  },
  "language_info": {
   "codemirror_mode": {
    "name": "ipython",
    "version": 3
   },
   "file_extension": ".py",
   "mimetype": "text/x-python",
   "name": "python",
   "nbconvert_exporter": "python",
   "pygments_lexer": "ipython3",
   "version": "3.11.8"
  }
 },
 "nbformat": 4,
 "nbformat_minor": 2
}
