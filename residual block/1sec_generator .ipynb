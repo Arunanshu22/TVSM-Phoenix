{
 "cells": [
  {
   "cell_type": "code",
   "execution_count": null,
   "metadata": {},
   "outputs": [],
   "source": [
    "if __name__ == \"__main__\":\n",
    "    # Replace 'input_audio.wav' with the path to your 25-minute audio file\n",
    "    input_audio_path = 'D:/OneDrive - TVS Motor Company Ltd/Desktop/demo/archive/16000_pcm_speeches/Arunanshu/arun.wav'\n",
    "\n",
    "    # Replace 'output_folder' with the desired folder to save the chunks\n",
    "    output_folder = 'D:/OneDrive - TVS Motor Company Ltd/Desktop/demo/archive/16000_pcm_speeches/Arunanshu/'\n",
    "\n",
    "    chunk_audio(input_audio_path, output_folder)\n",
    "\n"
   ]
  },
  {
   "cell_type": "code",
   "execution_count": 4,
   "metadata": {},
   "outputs": [
    {
     "name": "stdout",
     "output_type": "stream",
     "text": [
      "48000\n"
     ]
    }
   ],
   "source": [
    "import wave\n",
    "import numpy as np\n",
    "\n",
    "def chunk_audio(input_file, output_folder, chunk_duration_sec=1, target_sample_rate=16000):\n",
    "    with wave.open(input_file, 'rb') as wave_file:\n",
    "        sample_width = wave_file.getsampwidth()\n",
    "        frame_rate = wave_file.getframerate()\n",
    "        print(frame_rate)\n",
    "        num_channels = wave_file.getnchannels()\n",
    "\n",
    "        chunk_size = int(chunk_duration_sec * target_sample_rate)\n",
    "        total_frames = wave_file.getnframes()\n",
    "\n",
    "        chunk_number = 0\n",
    "        for i in range(0, total_frames, chunk_size):\n",
    "            chunk_data = wave_file.readframes(chunk_size)\n",
    "            if len(chunk_data) == chunk_size * sample_width * num_channels:\n",
    "                output_file = f\"{output_folder}/{chunk_number}.wav\"\n",
    "                with wave.open(output_file, 'wb') as output_wave:\n",
    "                    output_wave.setsampwidth(sample_width)\n",
    "                    output_wave.setframerate(target_sample_rate)\n",
    "                    output_wave.setnchannels(num_channels)\n",
    "                    output_wave.writeframes(chunk_data)\n",
    "                chunk_number += 1\n",
    "\n",
    "if __name__ == \"__main__\":\n",
    "    input_file = \"D:/OneDrive - TVS Motor Company Ltd/Desktop\\demo/16000_pcm_speeches/Arunanshu/ArunUnivTest.wav\"  # Replace with the actual path to your input audio file\n",
    "    output_folder = \"D:/OneDrive - TVS Motor Company Ltd/Desktop/demo/16000_pcm_speeches/Arunanshu/\"  # Replace with the desired output folder\n",
    "\n",
    "    chunk_audio(input_file, output_folder, chunk_duration_sec=1, target_sample_rate=16000)\n"
   ]
  }
 ],
 "metadata": {
  "kernelspec": {
   "display_name": "Python 3",
   "language": "python",
   "name": "python3"
  },
  "language_info": {
   "codemirror_mode": {
    "name": "ipython",
    "version": 3
   },
   "file_extension": ".py",
   "mimetype": "text/x-python",
   "name": "python",
   "nbconvert_exporter": "python",
   "pygments_lexer": "ipython3",
   "version": "3.11.5"
  }
 },
 "nbformat": 4,
 "nbformat_minor": 2
}
