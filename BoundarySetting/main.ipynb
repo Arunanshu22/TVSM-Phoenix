{
 "cells": [
  {
   "cell_type": "markdown",
   "metadata": {},
   "source": [
    "TO DO\n",
    "1. Train Arun (vs) Non-Arun \n",
    "    - 25 min & (6.25)(4)\n",
    "    - Two folders - Arun, Non-Arun\n",
    "    - Collect audio between clips\n",
    "2. Same for all other classifiers\n",
    "3. Collect test files - 15 sec\n",
    "4. Predict on all models\n",
    "5. If op of all => Non => Unauthorized\n",
    "   Else op of atleast 1 => not Non => Predict that as user"
   ]
  },
  {
   "cell_type": "markdown",
   "metadata": {},
   "source": [
    "Arun Vs NonArun Classifier"
   ]
  },
  {
   "cell_type": "code",
   "execution_count": 11,
   "metadata": {},
   "outputs": [],
   "source": [
    "# code to create folders - \n",
    "# desired folder structure - \n",
    "    # ArunVsNonArun\n",
    "        # Arun\n",
    "            # 25min audio clip in 1 second clips of 48k sample rate\n",
    "        # NonArun\n",
    "            # 6.25min audio clip in 1 second clips of Sunamdha audio in 48k sample rate\n",
    "            # 6.25min audio clip in 1 second clips of Abhishek audio in 48k sample rate\n",
    "            # 6.25min audio clip in 1 second clips of Anirban audio in 48k sample rate\n",
    "            # 6.25min audio clip in 1 second clips of Shivam audio in 48k sample rate"
   ]
  },
  {
   "cell_type": "code",
   "execution_count": 6,
   "metadata": {},
   "outputs": [],
   "source": [
    "import os\n",
    "import librosa\n",
    "import soundfile as sf\n",
    "\n",
    "# Define the path to the input audio file\n",
    "input_audio_path = \"D:/archive/Sound Recordings/arun_jfa.wav\"\n",
    "\n",
    "# Define the directory to store the output clips\n",
    "output_directory = \"TrainData/ArunVsNonArun/Arun\"\n",
    "os.makedirs(output_directory, exist_ok=True)\n",
    "\n",
    "# Load the audio file\n",
    "audio_data, sr = librosa.load(input_audio_path, sr=48000)\n",
    "\n",
    "# Calculate the total number of clips (1 second each)\n",
    "clip_length = sr  # 1 second\n",
    "total_clips = len(audio_data) // clip_length\n",
    "\n",
    "# Extract and store each clip\n",
    "for i in range(total_clips):\n",
    "    clip_start = i * clip_length\n",
    "    clip_end = clip_start + clip_length\n",
    "    clip = audio_data[clip_start:clip_end]\n",
    "    \n",
    "    # Define the output file path\n",
    "    output_file_path = os.path.join(output_directory, f\"clip_{i}.wav\")\n",
    "    \n",
    "    # Save the clip\n",
    "    sf.write(output_file_path, clip, sr, subtype='PCM_16')  # Using soundfile for writing the audio file"
   ]
  },
  {
   "cell_type": "code",
   "execution_count": 7,
   "metadata": {},
   "outputs": [
    {
     "name": "stdout",
     "output_type": "stream",
     "text": [
      "Sampling rate: 48000\n"
     ]
    }
   ],
   "source": [
    "# check sr of random clip - \n",
    "import wave\n",
    "def get_sampling_rate(filename):\n",
    "    with wave.open(filename, 'rb') as wf:\n",
    "        sr = wf.getframerate()\n",
    "    return sr\n",
    "if __name__ == \"__main__\":\n",
    "    filename = \"TrainData/ArunVsNonArun/Arun/clip_7.wav\"  # Replace with your audio file path\n",
    "    sr = get_sampling_rate(filename)\n",
    "    print(\"Sampling rate:\", sr)"
   ]
  },
  {
   "cell_type": "code",
   "execution_count": 12,
   "metadata": {},
   "outputs": [],
   "source": [
    "# 6.25 min per user into NonArun\n",
    "\n",
    "import os\n",
    "import numpy as np\n",
    "import librosa\n",
    "import soundfile as sf\n",
    "\n",
    "# Define the paths to the input audio files\n",
    "input_audio_paths = [\"D:/archive/Sound Recordings/Abhishek_PLP.wav\", \n",
    "                     \"D:/archive/Sound Recordings/Anirban_ivector.wav\", \n",
    "                     \"D:/archive/Sound Recordings/shivam_java.wav\", \n",
    "                     \"D:/archive/Sound Recordings/Sunamdha_pncc.wav\"]\n",
    "\n",
    "# Define the directory to store the output clips\n",
    "output_directory = \"TrainData/ArunVsNonArun/NonArun\"\n",
    "os.makedirs(output_directory, exist_ok=True)\n",
    "\n",
    "# Initialize an empty list to store the concatenated audio data\n",
    "concatenated_audio_data = []\n",
    "\n",
    "# Iterate over each input audio file\n",
    "for audio_path in input_audio_paths:\n",
    "    # Load the audio file\n",
    "    audio_data, sr = librosa.load(audio_path, sr=48000)\n",
    "    \n",
    "    # Calculate the length of the 6.5 minute clip\n",
    "    clip_length = sr * 60 * 6.25  # 6.5 minutes in samples\n",
    "    \n",
    "    # Calculate the start and end indices for the 6.5 minute clip (from the middle)\n",
    "    start_index = int((len(audio_data) - clip_length) // 2)\n",
    "    end_index = start_index + int(clip_length)\n",
    "    \n",
    "    # Extract the 6.5 minute clip and append it to the concatenated audio data\n",
    "    concatenated_audio_data.extend(audio_data[start_index:end_index])\n",
    "\n",
    "# Convert the concatenated audio data to a numpy array\n",
    "concatenated_audio_data = np.array(concatenated_audio_data)\n",
    "\n",
    "# Calculate the total number of 1-second clips in the concatenated audio\n",
    "total_clips = len(concatenated_audio_data) // sr\n",
    "\n",
    "# Extract and store each clip\n",
    "for i in range(total_clips):\n",
    "    clip_start = i * sr\n",
    "    clip_end = clip_start + sr\n",
    "    one_second_clip = concatenated_audio_data[clip_start:clip_end]\n",
    "    \n",
    "    # Define the output file path\n",
    "    output_file_path = os.path.join(output_directory, f\"clip_{i}.wav\")\n",
    "    \n",
    "    # Save the one-second clip\n",
    "    sf.write(output_file_path, one_second_clip, sr, subtype='PCM_16')  # Using soundfile for writing the audio file"
   ]
  },
  {
   "cell_type": "code",
   "execution_count": 14,
   "metadata": {},
   "outputs": [],
   "source": [
    "# train a Arun vs NonArun Classifier\n",
    "import matplotlib.pyplot as plt\n",
    "import tensorflow as tf\n",
    "from sklearn.model_selection import train_test_split\n",
    "from sklearn.preprocessing import LabelEncoder\n",
    "from sklearn.preprocessing import StandardScaler\n",
    "import librosa.display\n",
    "\n",
    "# Set the parent directory for speaker folders\n",
    "parent_dir = \"TrainData/ArunVsNonArun\"\n",
    "\n",
    "# List of speaker folders\n",
    "speaker_folders = [\n",
    "    \"Arun\",\n",
    "    \"NonArun\"\n",
    "]\n",
    "\n",
    "def extract_features(parent_dir, speaker_folders):\n",
    "    features = []\n",
    "    labels = []\n",
    "\n",
    "    for i, speaker_folder in enumerate(speaker_folders):\n",
    "        speaker_folder_path = os.path.join(parent_dir, speaker_folder)\n",
    "\n",
    "        for filename in os.listdir(speaker_folder_path):\n",
    "            if filename.endswith(\".wav\"):\n",
    "                file_path = os.path.join(speaker_folder_path, filename)\n",
    "                audio, sr = librosa.load(file_path, sr=48000, duration=1)\n",
    "                mfccs = librosa.feature.mfcc(y=audio, sr=sr, n_mfcc=90)\n",
    "                \n",
    "                # Normalize MFCC features\n",
    "                mfccs = StandardScaler().fit_transform(mfccs)\n",
    "                \n",
    "                features.append(mfccs.T)\n",
    "                labels.append(i)\n",
    "\n",
    "    return np.array(features), np.array(labels)\n",
    "\n",
    "# Extract features and labels\n",
    "X, y = extract_features(parent_dir, speaker_folders)"
   ]
  },
  {
   "cell_type": "code",
   "execution_count": 15,
   "metadata": {},
   "outputs": [
    {
     "name": "stdout",
     "output_type": "stream",
     "text": [
      "Training Data Shape: (2110, 94, 90)\n",
      "Validation Data Shape: (905, 94, 90)\n"
     ]
    }
   ],
   "source": [
    "from tensorflow.keras.callbacks import EarlyStopping\n",
    "from sklearn.preprocessing import LabelEncoder\n",
    "\n",
    "# Encode labels with explicit classes\n",
    "label_encoder = LabelEncoder()\n",
    "y = label_encoder.fit_transform(y)\n",
    "label_encoder.classes_ = np.array(speaker_folders)\n",
    "\n",
    "# Split the data into training, validation, and test sets\n",
    "#X_train, X_temp, y_train, y_temp = train_test_split(X, y, test_size=0.3, random_state=42)\n",
    "#X_val, X_test, y_val, y_test = train_test_split(X_temp, y_temp, test_size=0.3, random_state=42)\n",
    "X_train, X_test, y_train, y_test = train_test_split(X, y, test_size=0.3, random_state=42)\n",
    "\n",
    "# Print the shapes of training and validation data\n",
    "print(\"Training Data Shape:\", X_train.shape)\n",
    "print(\"Validation Data Shape:\", X_test.shape)"
   ]
  },
  {
   "cell_type": "code",
   "execution_count": 16,
   "metadata": {},
   "outputs": [
    {
     "name": "stdout",
     "output_type": "stream",
     "text": [
      "WARNING:tensorflow:From d:\\AdjustedPythonVirtEnv\\Lib\\site-packages\\keras\\src\\layers\\rnn\\lstm.py:148: The name tf.executing_eagerly_outside_functions is deprecated. Please use tf.compat.v1.executing_eagerly_outside_functions instead.\n",
      "\n",
      "WARNING:tensorflow:From d:\\AdjustedPythonVirtEnv\\Lib\\site-packages\\keras\\src\\optimizers\\__init__.py:309: The name tf.train.Optimizer is deprecated. Please use tf.compat.v1.train.Optimizer instead.\n",
      "\n",
      "Epoch 1/20\n",
      "WARNING:tensorflow:From d:\\AdjustedPythonVirtEnv\\Lib\\site-packages\\keras\\src\\utils\\tf_utils.py:492: The name tf.ragged.RaggedTensorValue is deprecated. Please use tf.compat.v1.ragged.RaggedTensorValue instead.\n",
      "\n",
      "WARNING:tensorflow:From d:\\AdjustedPythonVirtEnv\\Lib\\site-packages\\keras\\src\\engine\\base_layer_utils.py:384: The name tf.executing_eagerly_outside_functions is deprecated. Please use tf.compat.v1.executing_eagerly_outside_functions instead.\n",
      "\n",
      "33/33 [==============================] - 9s 178ms/step - loss: 0.6048 - accuracy: 0.8483 - val_loss: 0.3318 - val_accuracy: 0.9680\n",
      "Epoch 2/20\n",
      "33/33 [==============================] - 5s 156ms/step - loss: 0.2849 - accuracy: 0.9749 - val_loss: 0.6889 - val_accuracy: 0.8928\n",
      "Epoch 3/20\n",
      "33/33 [==============================] - 6s 173ms/step - loss: 0.3115 - accuracy: 0.9640 - val_loss: 0.2303 - val_accuracy: 0.9801\n",
      "Epoch 4/20\n",
      "33/33 [==============================] - 5s 153ms/step - loss: 0.2488 - accuracy: 0.9701 - val_loss: 0.2032 - val_accuracy: 0.9823\n",
      "Epoch 5/20\n",
      "33/33 [==============================] - 5s 154ms/step - loss: 0.1669 - accuracy: 0.9872 - val_loss: 0.1822 - val_accuracy: 0.9834\n",
      "Epoch 6/20\n",
      "33/33 [==============================] - 5s 154ms/step - loss: 0.2137 - accuracy: 0.9545 - val_loss: 0.5367 - val_accuracy: 0.8420\n",
      "Epoch 7/20\n",
      "33/33 [==============================] - 5s 152ms/step - loss: 0.5037 - accuracy: 0.8578 - val_loss: 0.2566 - val_accuracy: 0.9646\n",
      "Early stopping triggered at epoch 7\n"
     ]
    },
    {
     "data": {
      "image/png": "[encoded data removed]",
      "text/plain": [
       "<Figure size 640x480 with 1 Axes>"
      ]
     },
     "metadata": {},
     "output_type": "display_data"
    }
   ],
   "source": [
    "from tensorflow.keras.regularizers import l2\n",
    "# Define the RNN model\n",
    "model = tf.keras.Sequential([\n",
    "    tf.keras.layers.LSTM(128, input_shape=(X_train.shape[1], X_train.shape[2]), return_sequences=True),\n",
    "    #tf.keras.layers.Dropout(0.2),  # Adding dropout for regularization\n",
    "    tf.keras.layers.LSTM(128),\n",
    "    #tf.keras.layers.LSTM(128),\n",
    "   # tf.keras.layers.Dropout(0.2),\n",
    "    tf.keras.layers.Dense(64, activation='relu', kernel_regularizer=l2(0.001)),  # Adding L2 regularization\n",
    "    tf.keras.layers.Dense(64, activation='relu', kernel_regularizer=l2(0.001)),  # Adding L2 regularization\n",
    "    tf.keras.layers.Dense(64, activation='relu', kernel_regularizer=l2(0.001)),  # Adding L2 regularization\n",
    "    tf.keras.layers.Dense(64, activation='relu', kernel_regularizer=l2(0.001)),  # Adding L2 regularization\n",
    "    tf.keras.layers.Dense(len(speaker_folders), activation='softmax')\n",
    "])\n",
    "\n",
    "# Compile the model\n",
    "model.compile(optimizer='adam', loss='sparse_categorical_crossentropy', metrics=['accuracy'])\n",
    "\n",
    "# Define the EarlyStopping callback\n",
    "early_stopping = EarlyStopping(monitor='val_loss', patience=2, restore_best_weights=True)\n",
    "\n",
    "# Train the model with EarlyStopping\n",
    "history = model.fit(X_train, y_train, validation_data=(X_test, y_test), epochs=20, batch_size=64, callbacks=[early_stopping])\n",
    "\n",
    "# Check if EarlyStopping triggered\n",
    "if early_stopping.stopped_epoch > 0:\n",
    "    print(\"Early stopping triggered at epoch\", early_stopping.stopped_epoch + 1)\n",
    "else:\n",
    "    print(\"Training completed without early stopping\")\n",
    "\n",
    "# Plot training vs validation loss\n",
    "plt.plot(history.history['loss'], label='Training Loss')\n",
    "plt.plot(history.history['val_loss'], label='Validation Loss')\n",
    "plt.xlabel('Epochs')\n",
    "plt.ylabel('Loss')\n",
    "plt.legend()\n",
    "plt.show()"
   ]
  },
  {
   "cell_type": "code",
   "execution_count": 18,
   "metadata": {},
   "outputs": [
    {
     "name": "stdout",
     "output_type": "stream",
     "text": [
      "29/29 [==============================] - 1s 31ms/step\n",
      "Test Evaluation Accuracy: 0.9834254143646409\n",
      "Weighted F1 Score: 0.9834276003419057\n"
     ]
    },
    {
     "data": {
      "image/png": "[encoded data removed]",
      "text/plain": [
       "<Figure size 800x600 with 2 Axes>"
      ]
     },
     "metadata": {},
     "output_type": "display_data"
    }
   ],
   "source": [
    "import seaborn as sns\n",
    "from sklearn.metrics import confusion_matrix\n",
    "from sklearn.metrics import accuracy_score, f1_score\n",
    "\n",
    "# Evaluate the model on the test set\n",
    "y_pred_probabilities = model.predict(X_test)\n",
    "y_pred = np.argmax(y_pred_probabilities, axis=1)\n",
    "\n",
    "# Decode labels back to original format\n",
    "y_test_decoded = label_encoder.inverse_transform(y_test)\n",
    "y_pred_decoded = label_encoder.inverse_transform(y_pred)\n",
    "\n",
    "# Create a confusion matrix\n",
    "conf_matrix = confusion_matrix(y_test_decoded, y_pred_decoded, labels=speaker_folders)\n",
    "\n",
    "# Calculate accuracy\n",
    "accuracy = accuracy_score(y_test_decoded, y_pred_decoded)\n",
    "print(f\"Test Evaluation Accuracy: {accuracy}\")\n",
    "\n",
    "# Calculate F1 score\n",
    "f1 = f1_score(y_test_decoded, y_pred_decoded, labels=speaker_folders, average='weighted')\n",
    "print(f\"Weighted F1 Score: {f1}\")\n",
    "\n",
    "# Plot the confusion matrix\n",
    "plt.figure(figsize=(8, 6))\n",
    "sns.heatmap(conf_matrix, annot=True, fmt=\"d\", cmap=\"Blues\", xticklabels=speaker_folders, yticklabels=speaker_folders)\n",
    "\n",
    "# Rotate x-axis labels by 45 degrees\n",
    "plt.xticks(rotation=45, ha=\"right\")\n",
    "\n",
    "plt.title(\"Confusion Matrix\")\n",
    "plt.xlabel(\"Predicted Label\")\n",
    "plt.ylabel(\"True Label\")\n",
    "plt.show()"
   ]
  },
  {
   "cell_type": "code",
   "execution_count": 19,
   "metadata": {},
   "outputs": [],
   "source": [
    "# create the Article Testing Folders - ArunTest\n",
    "import os\n",
    "import librosa\n",
    "import soundfile as sf\n",
    "\n",
    "# Define the path to the input audio file\n",
    "input_audio_path = \"D:/archive/Sound Recordings/aruntestarticle.wav\"\n",
    "\n",
    "# Define the directory to store the output clips\n",
    "output_directory = \"TestData/ArunVsNonArun/Arun\"\n",
    "os.makedirs(output_directory, exist_ok=True)\n",
    "\n",
    "# Load the audio file\n",
    "audio_data, sr = librosa.load(input_audio_path, sr=48000)\n",
    "\n",
    "# Calculate the total number of clips (1 second each)\n",
    "clip_length = sr  # 1 second\n",
    "total_clips = len(audio_data) // clip_length\n",
    "\n",
    "# Extract and store each clip\n",
    "for i in range(total_clips):\n",
    "    clip_start = i * clip_length\n",
    "    clip_end = clip_start + clip_length\n",
    "    clip = audio_data[clip_start:clip_end]\n",
    "    \n",
    "    # Define the output file path\n",
    "    output_file_path = os.path.join(output_directory, f\"clip_{i}.wav\")\n",
    "    \n",
    "    # Save the clip\n",
    "    sf.write(output_file_path, clip, sr, subtype='PCM_16')  # Using soundfile for writing the audio file"
   ]
  },
  {
   "cell_type": "code",
   "execution_count": 20,
   "metadata": {},
   "outputs": [],
   "source": [
    "# create the Article Testing Folders - NonArunTest\n",
    "import os\n",
    "import librosa\n",
    "import soundfile as sf\n",
    "\n",
    "# Define the paths to the input audio files\n",
    "input_audio_paths = [\n",
    "    \"D:/archive/Sound Recordings/abhishektestarticle.wav\",\n",
    "    \"D:/archive/Sound Recordings/anirbantestarticle.wav\",\n",
    "    \"D:/archive/Sound Recordings/shivam_gmm.wav\",\n",
    "    \"D:/archive/Sound Recordings/sunamdhatestarticle.wav\"\n",
    "]\n",
    "\n",
    "# Define the directory to store the output clips\n",
    "output_directory = \"TestData/ArunVsNonArun/NonArun\"\n",
    "os.makedirs(output_directory, exist_ok=True)\n",
    "\n",
    "# Process each input audio file\n",
    "for input_audio_path in input_audio_paths:\n",
    "    # Load the audio file\n",
    "    audio_data, sr = librosa.load(input_audio_path, sr=48000)\n",
    "\n",
    "    # Calculate the total number of clips (1 second each)\n",
    "    clip_length = sr  # 1 second\n",
    "    total_clips = len(audio_data) // clip_length\n",
    "\n",
    "    # Extract and store each clip\n",
    "    for i in range(total_clips):\n",
    "        clip_start = i * clip_length\n",
    "        clip_end = clip_start + clip_length\n",
    "        clip = audio_data[clip_start:clip_end]\n",
    "\n",
    "        # Define the output file path\n",
    "        output_file_path = os.path.join(output_directory, f\"{os.path.basename(input_audio_path)}_clip_{i}.wav\")\n",
    "\n",
    "        # Save the clip\n",
    "        sf.write(output_file_path, clip, sr, subtype='PCM_16')  # Using soundfile for writing the audio file"
   ]
  },
  {
   "cell_type": "code",
   "execution_count": 21,
   "metadata": {},
   "outputs": [],
   "source": [
    "# testing model with ArunArticle files\n",
    "import tensorflow as tf\n",
    "from sklearn.model_selection import train_test_split\n",
    "from sklearn.preprocessing import LabelEncoder\n",
    "from sklearn.preprocessing import StandardScaler\n",
    "\n",
    "# Set the parent directory for speaker folders\n",
    "parent_dir = \"TestData/ArunVsNonArun\"\n",
    "\n",
    "# List of speaker folders\n",
    "speaker_folders = [\n",
    "    \"Arun\",\n",
    "    \"NonArun\"\n",
    "]\n",
    "\n",
    "def extract_features(parent_dir, speaker_folders):\n",
    "    features = []\n",
    "    labels = []\n",
    "\n",
    "    for i, speaker_folder in enumerate(speaker_folders):\n",
    "        speaker_folder_path = os.path.join(parent_dir, speaker_folder)\n",
    "\n",
    "        for filename in os.listdir(speaker_folder_path):\n",
    "            if filename.endswith(\".wav\"):\n",
    "                file_path = os.path.join(speaker_folder_path, filename)\n",
    "                audio, sr = librosa.load(file_path, sr=48000, duration=1)\n",
    "                mfccs = librosa.feature.mfcc(y=audio, sr=sr, n_mfcc=90)\n",
    "                \n",
    "                # Normalize MFCC features\n",
    "                mfccs = StandardScaler().fit_transform(mfccs)\n",
    "                \n",
    "                features.append(mfccs.T)\n",
    "                labels.append(i)\n",
    "\n",
    "    return np.array(features), np.array(labels)\n",
    "\n",
    "# Extract features and labels\n",
    "X, y = extract_features(parent_dir, speaker_folders)"
   ]
  },
  {
   "cell_type": "code",
   "execution_count": 22,
   "metadata": {},
   "outputs": [
    {
     "name": "stdout",
     "output_type": "stream",
     "text": [
      "52/52 [==============================] - 2s 40ms/step\n",
      "Test Evaluation Accuracy: 0.9491733006736068\n",
      "Weighted F1 Score: 0.9492702296206021\n"
     ]
    },
    {
     "data": {
      "image/png": "[encoded data removed]",
      "text/plain": [
       "<Figure size 800x600 with 2 Axes>"
      ]
     },
     "metadata": {},
     "output_type": "display_data"
    }
   ],
   "source": [
    "import seaborn as sns\n",
    "from sklearn.metrics import confusion_matrix\n",
    "from sklearn.metrics import accuracy_score, f1_score\n",
    "\n",
    "# Evaluate the model on the test set\n",
    "y_pred_probabilities = model.predict(X)\n",
    "y_pred = np.argmax(y_pred_probabilities, axis=1)\n",
    "\n",
    "# Decode labels back to original format\n",
    "y_test_decoded = label_encoder.inverse_transform(y)\n",
    "y_pred_decoded = label_encoder.inverse_transform(y_pred)\n",
    "\n",
    "# Create a confusion matrix\n",
    "conf_matrix = confusion_matrix(y_test_decoded, y_pred_decoded, labels=speaker_folders)\n",
    "\n",
    "# Calculate accuracy\n",
    "accuracy = accuracy_score(y_test_decoded, y_pred_decoded)\n",
    "print(f\"Test Evaluation Accuracy: {accuracy}\")\n",
    "\n",
    "# Calculate F1 score\n",
    "f1 = f1_score(y_test_decoded, y_pred_decoded, labels=speaker_folders, average='weighted')\n",
    "print(f\"Weighted F1 Score: {f1}\")\n",
    "\n",
    "# Plot the confusion matrix\n",
    "plt.figure(figsize=(8, 6))\n",
    "sns.heatmap(conf_matrix, annot=True, fmt=\"d\", cmap=\"Blues\", xticklabels=speaker_folders, yticklabels=speaker_folders)\n",
    "\n",
    "# Rotate x-axis labels by 45 degrees\n",
    "plt.xticks(rotation=45, ha=\"right\")\n",
    "\n",
    "plt.title(\"Confusion Matrix\")\n",
    "plt.xlabel(\"Predicted Label\")\n",
    "plt.ylabel(\"True Label\")\n",
    "plt.show()"
   ]
  },
  {
   "cell_type": "code",
   "execution_count": 23,
   "metadata": {},
   "outputs": [
    {
     "data": {
      "image/png": "[encoded data removed]",
      "text/plain": [
       "<Figure size 800x600 with 2 Axes>"
      ]
     },
     "metadata": {},
     "output_type": "display_data"
    }
   ],
   "source": [
    "# Convert confusion matrix to percentages\n",
    "conf_matrix_percentage = conf_matrix.astype('float') / conf_matrix.sum(axis=1)[:, np.newaxis] * 100\n",
    "\n",
    "# Plot the confusion matrix with percentages\n",
    "plt.figure(figsize=(8, 6))\n",
    "sns.heatmap(conf_matrix_percentage, annot=True, fmt=\".2f\", cmap=\"Blues\", xticklabels=speaker_folders, yticklabels=speaker_folders)\n",
    "\n",
    "# Rotate x-axis labels by 45 degrees\n",
    "plt.xticks(rotation=45, ha=\"right\")\n",
    "\n",
    "plt.title(\"Confusion Matrix\")\n",
    "plt.xlabel(\"Predicted Label\")\n",
    "plt.ylabel(\"True Label\")\n",
    "plt.show()"
   ]
  },
  {
   "cell_type": "code",
   "execution_count": 70,
   "metadata": {},
   "outputs": [
    {
     "name": "stdout",
     "output_type": "stream",
     "text": [
      "Recording...\n",
      "Finished recording.\n"
     ]
    }
   ],
   "source": [
    "# dynamic predict\n",
    "# collect 15 second file - \n",
    "import pyaudio\n",
    "import wave\n",
    "\n",
    "def record_audio(filename, duration=15, rate=48000, chunk=1024, channels=2, format=pyaudio.paInt16):\n",
    "    audio = pyaudio.PyAudio()\n",
    "    stream = audio.open(format=format, channels=channels,\n",
    "                        rate=rate, input=True,\n",
    "                        frames_per_buffer=chunk)\n",
    "    print(\"Recording...\")\n",
    "    frames = []\n",
    "    for i in range(0, int(rate / chunk * duration)):\n",
    "        data = stream.read(chunk)\n",
    "        frames.append(data)\n",
    "    print(\"Finished recording.\")\n",
    "    \n",
    "    stream.stop_stream()\n",
    "    stream.close()\n",
    "    audio.terminate()\n",
    "    \n",
    "    with wave.open(filename, 'wb') as wf:\n",
    "        wf.setnchannels(channels)\n",
    "        wf.setsampwidth(audio.get_sample_size(format))\n",
    "        wf.setframerate(rate)\n",
    "        wf.writeframes(b''.join(frames))\n",
    "\n",
    "if __name__ == \"__main__\":\n",
    "    filename = \"recorded_audio.wav\"\n",
    "    record_audio(filename)"
   ]
  },
  {
   "cell_type": "code",
   "execution_count": 72,
   "metadata": {},
   "outputs": [],
   "source": [
    "# break clip into \"DynamicTesting/\"\n",
    "from pydub import AudioSegment\n",
    "import os\n",
    "\n",
    "def split_audio(filename, output_folder, segment_length=1000):\n",
    "    audio = AudioSegment.from_wav(filename)\n",
    "    \n",
    "    if not os.path.exists(output_folder):\n",
    "        os.makedirs(output_folder)\n",
    "    \n",
    "    for i, start_time in enumerate(range(0, len(audio), segment_length)):\n",
    "        end_time = start_time + segment_length\n",
    "        segment = audio[start_time:end_time]\n",
    "        segment.export(os.path.join(output_folder, f\"clip_{i+1}.wav\"), format=\"wav\")\n",
    "\n",
    "if __name__ == \"__main__\":\n",
    "    filename = \"recorded_audio.wav\"  # Replace with your recorded audio file\n",
    "    output_folder = \"DynamicTesting/Unknown\"\n",
    "    split_audio(filename, output_folder)"
   ]
  },
  {
   "cell_type": "code",
   "execution_count": 73,
   "metadata": {},
   "outputs": [],
   "source": [
    "# preprocess - \n",
    "import os\n",
    "import numpy as np\n",
    "import tensorflow as tf\n",
    "from sklearn.model_selection import train_test_split\n",
    "from sklearn.preprocessing import LabelEncoder\n",
    "from sklearn.preprocessing import StandardScaler\n",
    "import librosa.display\n",
    "\n",
    "# Set the parent directory for speaker folders\n",
    "parent_dir = \"DynamicTesting\"\n",
    "\n",
    "# List of speaker folders\n",
    "speaker_folders = [\n",
    "    \"Unknown\"\n",
    "]\n",
    "\n",
    "def extract_features(parent_dir, speaker_folders):\n",
    "    features = []\n",
    "    labels = []\n",
    "\n",
    "    for i, speaker_folder in enumerate(speaker_folders):\n",
    "        speaker_folder_path = os.path.join(parent_dir, speaker_folder)\n",
    "\n",
    "        for filename in os.listdir(speaker_folder_path):\n",
    "            if filename.endswith(\".wav\"):\n",
    "                file_path = os.path.join(speaker_folder_path, filename)\n",
    "                audio, sr = librosa.load(file_path, sr=48000, duration=1)\n",
    "                mfccs = librosa.feature.mfcc(y=audio, sr=sr, n_mfcc=90)\n",
    "                \n",
    "                # Normalize MFCC features\n",
    "                mfccs = StandardScaler().fit_transform(mfccs)\n",
    "                \n",
    "                features.append(mfccs.T)\n",
    "                labels.append(i)\n",
    "\n",
    "    return np.array(features), np.array(labels)\n",
    "\n",
    "# Extract features and labels\n",
    "X, y = extract_features(parent_dir, speaker_folders)"
   ]
  },
  {
   "cell_type": "code",
   "execution_count": 74,
   "metadata": {},
   "outputs": [],
   "source": [
    "actual_speakers = [\n",
    "    \"Arun\",\n",
    "    \"NonArun\"\n",
    "]"
   ]
  },
  {
   "cell_type": "code",
   "execution_count": 75,
   "metadata": {},
   "outputs": [],
   "source": [
    "# Encode labels with explicit classes\n",
    "label_encoder = LabelEncoder()\n",
    "# y = label_encoder.fit_transform(y)\n",
    "label_encoder.classes_ = np.array(actual_speakers)"
   ]
  },
  {
   "cell_type": "code",
   "execution_count": 76,
   "metadata": {},
   "outputs": [
    {
     "name": "stdout",
     "output_type": "stream",
     "text": [
      "1/1 [==============================] - 0s 71ms/step\n"
     ]
    },
    {
     "data": {
      "text/plain": [
       "array(['NonArun', 'NonArun', 'NonArun', 'NonArun', 'NonArun', 'NonArun',\n",
       "       'NonArun', 'NonArun', 'NonArun', 'NonArun', 'NonArun', 'NonArun',\n",
       "       'NonArun', 'NonArun', 'NonArun'], dtype='<U7')"
      ]
     },
     "execution_count": 76,
     "metadata": {},
     "output_type": "execute_result"
    }
   ],
   "source": [
    "# predict\n",
    "# import seaborn as sns\n",
    "from sklearn.preprocessing import LabelEncoder\n",
    "import joblib\n",
    "from sklearn.metrics import confusion_matrix\n",
    "from sklearn.metrics import accuracy_score, f1_score\n",
    "\n",
    "# model = joblib.load('Five_speaker_model_mfcc_1.joblib')  # Update with your actual model file\n",
    "y_pred_probabilities = model.predict(X)\n",
    "y_pred = np.argmax(y_pred_probabilities, axis=1)\n",
    "y_pred\n",
    "y_pred_decoded = label_encoder.inverse_transform(y_pred)\n",
    "y_pred_decoded"
   ]
  }
 ],
 "metadata": {
  "kernelspec": {
   "display_name": "AdjustedPythonVirtEnv",
   "language": "python",
   "name": "python3"
  },
  "language_info": {
   "codemirror_mode": {
    "name": "ipython",
    "version": 3
   },
   "file_extension": ".py",
   "mimetype": "text/x-python",
   "name": "python",
   "nbconvert_exporter": "python",
   "pygments_lexer": "ipython3",
   "version": "3.11.7"
  }
 },
 "nbformat": 4,
 "nbformat_minor": 2
}
