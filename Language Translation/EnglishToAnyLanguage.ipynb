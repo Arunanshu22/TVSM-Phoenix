{
 "cells": [
  {
   "cell_type": "code",
   "execution_count": 78,
   "metadata": {},
   "outputs": [],
   "source": [
    "import googletrans\n",
    "from googletrans import Translator\n",
    "inverted_dict=googletrans.LANGUAGES\n",
    "LanguageList = {value: key for key, value in inverted_dict.items()}\n",
    "Language=input(\"Enter language of your choice\")\n",
    "dt=LanguageList[Language.lower()]"
   ]
  },
  {
   "cell_type": "code",
   "execution_count": 79,
   "metadata": {},
   "outputs": [
    {
     "name": "stdout",
     "output_type": "stream",
     "text": [
      "Random sentence from file:\n",
      "However, the recent innovation in robotics and artificial intelligence has raised queries related to human labor becomes obsolete, thus leaving people in various sectors jobless, leading to economic crisis and recession.\n"
     ]
    }
   ],
   "source": [
    "import random\n",
    "\n",
    "def get_random_sentence_from_file(filename):\n",
    "    # Open the file and read all lines into a list\n",
    "    with open(filename, 'r', encoding='utf-8') as file:\n",
    "        lines = file.readlines()\n",
    "        #print(lines)\n",
    "        \n",
    "\n",
    "    # Ensure there is at least one line in the file\n",
    "    if not lines:\n",
    "        return \"File is empty or could not be read.\"\n",
    "\n",
    "    # Select a random line from the list of lines\n",
    "    random_sentence = random.choice(lines)\n",
    "\n",
    "    return random_sentence.strip()  # Strip any leading or trailing whitespace\n",
    "\n",
    "# Example usage\n",
    "filename = 'textfile.txt'\n",
    "\n",
    "try:\n",
    "    random_sentence = get_random_sentence_from_file(filename)\n",
    "    print(\"Random sentence from file:\")\n",
    "    print(random_sentence)\n",
    "except FileNotFoundError:\n",
    "    print(f\"Error: File '{filename}' not found.\")\n"
   ]
  },
  {
   "cell_type": "code",
   "execution_count": 80,
   "metadata": {},
   "outputs": [
    {
     "name": "stdout",
     "output_type": "stream",
     "text": [
      "যাইহোক, রোবোটিক্স এবং কৃত্রিম বুদ্ধিমত্তার সাম্প্রতিক উদ্ভাবন মানব শ্রম সম্পর্কিত প্রশ্ন উত্থাপন করেছে, এইভাবে মানুষকে বিভিন্ন খাতে বেকার রেখে অর্থনৈতিক সংকট ও মন্দার দিকে পরিচালিত করে।\n"
     ]
    }
   ],
   "source": [
    "translator = Translator()\n",
    " \n",
    "#query = \"This is an example\"\n",
    "translated = translator.translate(random_sentence, dest=dt)  # Set 'bn' for Bengali\n",
    " \n",
    "print(translated.text)"
   ]
  }
 ],
 "metadata": {
  "kernelspec": {
   "display_name": "base",
   "language": "python",
   "name": "python3"
  },
  "language_info": {
   "codemirror_mode": {
    "name": "ipython",
    "version": 3
   },
   "file_extension": ".py",
   "mimetype": "text/x-python",
   "name": "python",
   "nbconvert_exporter": "python",
   "pygments_lexer": "ipython3",
   "version": "3.11.5"
  }
 },
 "nbformat": 4,
 "nbformat_minor": 2
}
