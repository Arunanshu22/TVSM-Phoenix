{
 "cells": [
  {
   "cell_type": "code",
   "execution_count": 1,
   "metadata": {},
   "outputs": [],
   "source": [
    "import pandas"
   ]
  },
  {
   "cell_type": "code",
   "execution_count": 1,
   "metadata": {},
   "outputs": [
    {
     "name": "stdout",
     "output_type": "stream",
     "text": [
      "यह एक उदाहरण है\n"
     ]
    }
   ],
   "source": [
    "from googletrans import Translator\n",
    " \n",
    "translator = Translator()\n",
    " \n",
    "query = \"This is an example\"\n",
    "translated = translator.translate(query, dest='hi')  # Set 'bn' for Bengali\n",
    " \n",
    "print(translated.text)"
   ]
  },
  {
   "cell_type": "code",
   "execution_count": 20,
   "metadata": {},
   "outputs": [],
   "source": [
    "import speech_recognition as sr\n",
    "\n",
    "# Initialize the recognizer\n",
    "recognizer = sr.Recognizer()\n",
    "\n",
    "# Function to convert speech to text\n",
    "def speech_to_text(audio_file_path):\n",
    "    with sr.AudioFile(audio_file_path) as source:\n",
    "        audio_data = recognizer.record(source)  # Record the audio file\n",
    "\n",
    "    try:\n",
    "        # Use Google Web Speech API to recognize speech\n",
    "        text = recognizer.recognize_google(audio_data)\n",
    "        return text\n",
    "    except sr.UnknownValueError:\n",
    "        print(\"Google Web Speech API could not understand audio\")\n",
    "    except sr.RequestError as e:\n",
    "        print(f\"Could not request results from Google Web Speech API; {e}\")"
   ]
  },
  {
   "cell_type": "code",
   "execution_count": 21,
   "metadata": {},
   "outputs": [
    {
     "name": "stdout",
     "output_type": "stream",
     "text": [
      "Text result: operators are projection operators and the\n"
     ]
    }
   ],
   "source": [
    "audio_file_path = \"new10secclips/clip_1.wav\"\n",
    " \n",
    " \n",
    " \n",
    "text_result = speech_to_text(audio_file_path)\n",
    "print(\"Text result:\", text_result)"
   ]
  },
  {
   "cell_type": "code",
   "execution_count": 8,
   "metadata": {},
   "outputs": [
    {
     "name": "stdout",
     "output_type": "stream",
     "text": [
      "కుర్చీ\n"
     ]
    }
   ],
   "source": [
    "from googletrans import Translator\n",
    " \n",
    "translator = Translator()\n",
    " \n",
    "query = \"chair\"\n",
    "translated = translator.translate(query, dest='te')  # Set 'bn' for Bengali\n",
    " \n",
    "print(translated.text)"
   ]
  },
  {
   "cell_type": "code",
   "execution_count": 12,
   "metadata": {},
   "outputs": [
    {
     "data": {
      "text/plain": [
       "'Kam Nahin kar rahi hai ab kya kar rahe hain theek hai aur aage kya karna hai mujhe Bhookh lag rahi hai aur batao batao batao batao batao batao batao kya karna hai aapki aapki jo bhi Maine 10 seconds ho rahi hai usmein ran karne mein ho Nahin Rahe jo maine main aapki Geeta Se download kiya hai sirf usse ho rahi hai'"
      ]
     },
     "execution_count": 12,
     "metadata": {},
     "output_type": "execute_result"
    }
   ],
   "source": [
    "text_result"
   ]
  },
  {
   "cell_type": "code",
   "execution_count": 3,
   "metadata": {},
   "outputs": [
    {
     "name": "stdout",
     "output_type": "stream",
     "text": [
      "పని ఇప్పుడు పనిచేయడం లేదు మీరు ఏమి చేస్తున్నారు, సరే మరియు తరువాత ఏమి చేయాలో, నేను ఆకలితో ఉన్నాను మరియు నాకు చెప్పండి\n"
     ]
    }
   ],
   "source": [
    "from googletrans import Translator\n",
    " \n",
    "translator = Translator()\n",
    " \n",
    "query = \"Kam Nahin kar rahi hai ab kya kar rahe hain theek hai aur aage kya karna hai mujhe Bhookh lag rahi hai aur batao batao \"\n",
    "translated = translator.translate(query, dest='te')  # Set 'bn' for Bengali\n",
    " \n",
    "print(translated.text)"
   ]
  },
  {
   "cell_type": "code",
   "execution_count": 24,
   "metadata": {},
   "outputs": [],
   "source": [
    "import os\n",
    "import librosa\n",
    "import numpy as np\n",
    "from scipy.io.wavfile import write\n",
    " \n",
    "def audio_to_clips(audio_file, output_folder, clip_duration=10, sr=48000):\n",
    "    # Load the audio file\n",
    "    y, sr = librosa.load(audio_file, sr=sr)\n",
    "   \n",
    "    # Calculate the number of samples per clip\n",
    "    samples_per_clip = int(sr * clip_duration)\n",
    "   \n",
    "    # Calculate the total number of clips\n",
    "    total_clips = len(y) // samples_per_clip\n",
    "   \n",
    "    clips = []\n",
    "   \n",
    "    # Extract clips\n",
    "    for i in range(total_clips):\n",
    "        start = i * samples_per_clip\n",
    "        end = (i + 1) * samples_per_clip\n",
    "        clip = y[start:end]\n",
    "        clips.append(clip)\n",
    "   \n",
    "    # Create the output folder if it doesn't exist\n",
    "    os.makedirs(output_folder, exist_ok=True)\n",
    "   \n",
    "    # Save the clips in the output folder\n",
    "    for i, clip in enumerate(clips):\n",
    "        output_file = os.path.join(output_folder, f\"clip_{i}.wav\")\n",
    "        # Write the clip in PCM format\n",
    "        write(output_file, sr, (clip * 32767).astype(np.int16))  # Convert to 16-bit PCM\n",
    "        # Convert to PCM format if not already in PCM\n",
    "        if librosa.get_samplerate(output_file) != sr:\n",
    "            os.system(f\"ffmpeg -i {output_file} -acodec pcm_s16le -ar {sr} {output_file}.pcm\")\n",
    "            os.remove(output_file)\n",
    " \n",
    "# Example usage\n",
    "\n",
    "audio_file = \"D:/OneDrive - TVS Motor Company Ltd/Documents/Sound Recordings/anirbantestarticle.wav\"\n",
    "output_folder = \"newall10secclips/anirban\"\n",
    "audio_to_clips(audio_file, output_folder)"
   ]
  }
 ],
 "metadata": {
  "kernelspec": {
   "display_name": "base",
   "language": "python",
   "name": "python3"
  },
  "language_info": {
   "codemirror_mode": {
    "name": "ipython",
    "version": 3
   },
   "file_extension": ".py",
   "mimetype": "text/x-python",
   "name": "python",
   "nbconvert_exporter": "python",
   "pygments_lexer": "ipython3",
   "version": "3.11.5"
  }
 },
 "nbformat": 4,
 "nbformat_minor": 2
}
