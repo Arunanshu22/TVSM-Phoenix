{
 "cells": [
  {
   "cell_type": "code",
   "execution_count": 72,
   "metadata": {},
   "outputs": [],
   "source": [
    "import pandas as pd\n",
    "df=pd.read_csv(\"Commands Classification Dataset (version 1).csv\")\n",
    "df.drop([\"Unnamed: 3\",\"Cmd\"],inplace=True,axis=1)"
   ]
  },
  {
   "cell_type": "code",
   "execution_count": 73,
   "metadata": {},
   "outputs": [
    {
     "name": "stdout",
     "output_type": "stream",
     "text": [
      "              precision    recall  f1-score   support\n",
      "\n",
      "       Cloud       0.96      1.00      0.98        24\n",
      "       Edge        1.00      0.95      0.97        55\n",
      "      Update       0.89      0.96      0.93        26\n",
      "\n",
      "    accuracy                           0.96       105\n",
      "   macro avg       0.95      0.97      0.96       105\n",
      "weighted avg       0.96      0.96      0.96       105\n",
      "\n"
     ]
    }
   ],
   "source": [
    "import pandas as pd\n",
    "from sklearn.model_selection import train_test_split\n",
    "from sklearn.feature_extraction.text import TfidfVectorizer\n",
    "from sklearn.naive_bayes import MultinomialNB\n",
    "from sklearn.pipeline import Pipeline\n",
    "from sklearn.metrics import classification_report\n",
    "import joblib\n",
    "\n",
    "# Assuming df is your DataFrame\n",
    "X = df['Commands']  # Input features\n",
    "y = df['Class']      # Target variable\n",
    "\n",
    "# Split the data into training and testing sets\n",
    "X_train, X_test, y_train, y_test = train_test_split(X, y, test_size=0.2, random_state=42)\n",
    "\n",
    "# Define the pipeline\n",
    "pipeline = Pipeline([\n",
    "    ('tfidf', TfidfVectorizer(max_features=10000)),\n",
    "    ('classifier', MultinomialNB())\n",
    "])\n",
    "\n",
    "# Train the pipeline\n",
    "pipeline.fit(X_train, y_train)\n",
    "\n",
    "# Save the pipeline\n",
    "\n",
    "joblib.dump(pipeline, 'joblib/ClassSvm.joblib')\n",
    "\n",
    "# Predictions\n",
    "y_pred = pipeline.predict(X_test)\n",
    "\n",
    "# Evaluation\n",
    "print(classification_report(y_test, y_pred))\n"
   ]
  },
  {
   "cell_type": "code",
   "execution_count": 74,
   "metadata": {},
   "outputs": [
    {
     "name": "stdout",
     "output_type": "stream",
     "text": [
      "Predicted class: Update\n"
     ]
    }
   ],
   "source": [
    "import pandas as pd\n",
    "import joblib\n",
    "\n",
    "# Load the saved pipeline\n",
    "pipeline = joblib.load('joblib/ClassSvm.joblib')\n",
    "\n",
    "# Create a DataFrame with a single row containing the command to classify\n",
    "command_to_classify = \"How long will it take to update\"\n",
    "data = {'Commands': [command_to_classify]}\n",
    "single_command_df = pd.DataFrame(data)\n",
    "\n",
    "# Predict the class\n",
    "predicted_class = pipeline.predict(single_command_df['Commands'])\n",
    "\n",
    "print(\"Predicted class:\", predicted_class[0])\n"
   ]
  },
  {
   "cell_type": "code",
   "execution_count": 75,
   "metadata": {},
   "outputs": [
    {
     "data": {
      "text/plain": [
       "Index(['Class', 'Subclass', 'Commands'], dtype='object')"
      ]
     },
     "execution_count": 75,
     "metadata": {},
     "output_type": "execute_result"
    }
   ],
   "source": [
    "df.columns"
   ]
  },
  {
   "cell_type": "code",
   "execution_count": 76,
   "metadata": {},
   "outputs": [
    {
     "data": {
      "text/plain": [
       "array(['Edge ', 'Cloud', 'Update'], dtype=object)"
      ]
     },
     "execution_count": 76,
     "metadata": {},
     "output_type": "execute_result"
    }
   ],
   "source": [
    "df[\"Class\"].unique()"
   ]
  },
  {
   "cell_type": "code",
   "execution_count": 77,
   "metadata": {},
   "outputs": [
    {
     "name": "stdout",
     "output_type": "stream",
     "text": [
      "Training model for class: Edge \n",
      "Classification report for class: Edge \n",
      "                  precision    recall  f1-score   support\n",
      "\n",
      "         Battery       0.63      0.92      0.75        13\n",
      "            Fuel       0.64      0.82      0.72        11\n",
      "       Greetings       1.00      0.20      0.33         5\n",
      "Safety reminders       1.00      0.14      0.25         7\n",
      "           Tires       0.85      0.92      0.88        12\n",
      "\n",
      "        accuracy                           0.71        48\n",
      "       macro avg       0.82      0.60      0.59        48\n",
      "    weighted avg       0.78      0.71      0.66        48\n",
      "\n",
      "Training model for class: Cloud\n",
      "Classification report for class: Cloud\n",
      "               precision    recall  f1-score   support\n",
      "\n",
      "         News       1.00      1.00      1.00         7\n",
      "Notifications       1.00      0.71      0.83         7\n",
      "  Songs/media       1.00      1.00      1.00         3\n",
      "      Traffic       1.00      1.00      1.00         5\n",
      "      Weather       0.80      1.00      0.89         8\n",
      "\n",
      "     accuracy                           0.93        30\n",
      "    macro avg       0.96      0.94      0.94        30\n",
      " weighted avg       0.95      0.93      0.93        30\n",
      "\n",
      "Training model for class: Update\n",
      "Classification report for class: Update\n",
      "              precision    recall  f1-score   support\n",
      "\n",
      "      Cancel       1.00      1.00      1.00         6\n",
      "       Check       0.88      1.00      0.93        14\n",
      "     Perform       1.00      0.71      0.83         7\n",
      "\n",
      "    accuracy                           0.93        27\n",
      "   macro avg       0.96      0.90      0.92        27\n",
      "weighted avg       0.94      0.93      0.92        27\n",
      "\n"
     ]
    }
   ],
   "source": [
    "import pandas as pd\n",
    "from sklearn.model_selection import train_test_split\n",
    "from sklearn.feature_extraction.text import TfidfVectorizer\n",
    "from sklearn.naive_bayes import MultinomialNB\n",
    "from sklearn.pipeline import Pipeline\n",
    "import joblib\n",
    "\n",
    "# Assuming df is your DataFrame\n",
    "X = df['Commands']  # Input features\n",
    "y = df['Subclass']   # Target variable\n",
    "\n",
    "# Iterate over each unique class\n",
    "unique_classes = df[\"Class\"].unique()\n",
    "\n",
    "# Dictionary to store models\n",
    "models = {}\n",
    "\n",
    "for class_label in unique_classes:\n",
    "    print(\"Training model for class:\", class_label)\n",
    "    \n",
    "    # Filter the DataFrame for the specific class\n",
    "    class_df = df[df[\"Class\"] == class_label]\n",
    "    X_class = class_df['Commands']\n",
    "    y_class = class_df['Subclass']\n",
    "    \n",
    "    # Split the data into training and testing sets\n",
    "    X_train, X_test, y_train, y_test = train_test_split(X_class, y_class, test_size=0.2, random_state=42)\n",
    "    \n",
    "    # Define the pipeline for the current class\n",
    "    pipeline = Pipeline([\n",
    "        ('tfidf', TfidfVectorizer(max_features=10000)),\n",
    "        ('classifier', MultinomialNB())\n",
    "    ])\n",
    "    \n",
    "    # Train the pipeline\n",
    "    pipeline.fit(X_train, y_train)\n",
    "    \n",
    "    # Store the model in the dictionary\n",
    "    models[class_label] = pipeline\n",
    "\n",
    "    # Save the model\n",
    "    joblib.dump(pipeline, f'joblib/SubClassmodel_{class_label}.joblib')\n",
    "\n",
    "    # Evaluate the model\n",
    "    y_pred = pipeline.predict(X_test)\n",
    "    print(\"Classification report for class:\", class_label)\n",
    "    print(classification_report(y_test, y_pred))\n",
    "\n",
    "# Now you have models for each class stored in the 'models' dictionary\n"
   ]
  },
  {
   "cell_type": "code",
   "execution_count": 78,
   "metadata": {},
   "outputs": [
    {
     "name": "stdout",
     "output_type": "stream",
     "text": [
      "Predicted subclass for class Update : Check\n"
     ]
    }
   ],
   "source": [
    "# Load the saved model for a specific class\n",
    "class_label_to_predict = predicted_class[0]\n",
    "model = joblib.load(f'joblib/SubClassmodel_{class_label}.joblib')\n",
    "\n",
    "# Create a DataFrame with a single row containing the command to classify\n",
    "command_to_classify = \"How long will it take to update\"\n",
    "data = {'Commands': [command_to_classify]}\n",
    "single_command_df = pd.DataFrame(data)\n",
    "\n",
    "# Predict the subclass for the given command and class\n",
    "predicted_subclass = model.predict(single_command_df['Commands'])\n",
    "\n",
    "print(\"Predicted subclass for class\", class_label_to_predict, \":\", predicted_subclass[0])\n"
   ]
  }
 ],
 "metadata": {
  "kernelspec": {
   "display_name": "base",
   "language": "python",
   "name": "python3"
  },
  "language_info": {
   "codemirror_mode": {
    "name": "ipython",
    "version": 3
   },
   "file_extension": ".py",
   "mimetype": "text/x-python",
   "name": "python",
   "nbconvert_exporter": "python",
   "pygments_lexer": "ipython3",
   "version": "3.11.5"
  }
 },
 "nbformat": 4,
 "nbformat_minor": 2
}
