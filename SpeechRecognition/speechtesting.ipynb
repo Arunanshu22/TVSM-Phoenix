{
 "cells": [
  {
   "cell_type": "code",
   "execution_count": 39,
   "metadata": {},
   "outputs": [
    {
     "name": "stdout",
     "output_type": "stream",
     "text": [
      "Predicted class: Update\n"
     ]
    }
   ],
   "source": [
    "import pandas as pd\n",
    "from sklearn.pipeline import Pipeline\n",
    "from sklearn.feature_extraction.text import TfidfVectorizer\n",
    "import joblib\n",
    "\n",
    "# Load the saved pipeline\n",
    "pipeline = joblib.load('joblib/ClassSvm.joblib')\n",
    "\n",
    "# Create a DataFrame with a single row containing the command to classify\n",
    "command_to_classify = input()\n",
    "\n",
    "data = {'Commands': [command_to_classify]}\n",
    "single_command_df = pd.DataFrame(data)\n",
    "\n",
    "# Predict the class\n",
    "predicted_class = pipeline.predict(single_command_df['Commands'])\n",
    "\n",
    "print(\"Predicted class:\", predicted_class[0])"
   ]
  },
  {
   "cell_type": "code",
   "execution_count": 40,
   "metadata": {},
   "outputs": [
    {
     "name": "stdout",
     "output_type": "stream",
     "text": [
      "Predicted subclass for class Update : Check\n"
     ]
    }
   ],
   "source": [
    "# Load the saved model for a specific class\n",
    "class_label_to_predict = predicted_class[0]\n",
    "model = joblib.load(f'joblib/SubClassmodel_{class_label_to_predict}.joblib')\n",
    "\n",
    "data = {'Commands': [command_to_classify]}\n",
    "single_command_df = pd.DataFrame(data)\n",
    "\n",
    "# Predict the subclass for the given command and class\n",
    "predicted_subclass = model.predict(single_command_df['Commands'])\n",
    "\n",
    "print(\"Predicted subclass for class\", class_label_to_predict, \":\", predicted_subclass[0])"
   ]
  },
  {
   "cell_type": "code",
   "execution_count": 41,
   "metadata": {},
   "outputs": [
    {
     "name": "stdout",
     "output_type": "stream",
     "text": [
      "How long it will to update\n"
     ]
    }
   ],
   "source": [
    "print (command_to_classify)"
   ]
  }
 ],
 "metadata": {
  "kernelspec": {
   "display_name": "base",
   "language": "python",
   "name": "python3"
  },
  "language_info": {
   "codemirror_mode": {
    "name": "ipython",
    "version": 3
   },
   "file_extension": ".py",
   "mimetype": "text/x-python",
   "name": "python",
   "nbconvert_exporter": "python",
   "pygments_lexer": "ipython3",
   "version": "3.11.5"
  }
 },
 "nbformat": 4,
 "nbformat_minor": 2
}
