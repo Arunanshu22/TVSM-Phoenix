{
  "nbformat": 4,
  "nbformat_minor": 0,
  "metadata": {
    "colab": {
      "provenance": []
    },
    "kernelspec": {
      "name": "python3",
      "display_name": "Python 3"
    },
    "language_info": {
      "name": "python"
    }
  },
  "cells": [
    {
      "cell_type": "code",
      "source": [
        "#! pip install speechbrain"
      ],
      "metadata": {
        "id": "MbNwhL__2Tvz"
      },
      "execution_count": 12,
      "outputs": []
    },
    {
      "cell_type": "code",
      "source": [
        "import speechbrain\n",
        "import torchaudio\n",
        "from speechbrain.inference.speaker import EncoderClassifier\n",
        "classifier = EncoderClassifier.from_hparams(source=\"speechbrain/spkrec-ecapa-voxceleb\")\n",
        "signal, fs =torchaudio.load('6.wav')\n",
        "embeddings = classifier.encode_batch(signal)"
      ],
      "metadata": {
        "id": "KwQqwgFz2llF"
      },
      "execution_count": 13,
      "outputs": []
    },
    {
      "cell_type": "code",
      "source": [
        "print(embeddings)"
      ],
      "metadata": {
        "colab": {
          "base_uri": "https://localhost:8080/"
        },
        "id": "6s35NxTD2o9F",
        "outputId": "ae73d775-f2a4-490e-fa24-6b4eace32689"
      },
      "execution_count": 14,
      "outputs": [
        {
          "output_type": "stream",
          "name": "stdout",
          "text": [
            "tensor([[[  5.4377,  21.0480,   3.7897,  35.9933,   4.7471,  15.8681,  16.7477,\n",
            "           32.6417,   2.7175,  30.0508,  42.9601,  -3.6038,   5.5214,  17.3216,\n",
            "            4.2818,   3.7555, -19.0174,  13.1050, -10.6486, -12.1158,  12.5858,\n",
            "            4.7886,  -0.2424,  18.4612,  17.7882,  -7.7825, -20.8550, -31.7351,\n",
            "           12.3417, -29.5983, -35.3260,   3.4663, -30.4829,  14.6828,  -4.4275,\n",
            "           -9.3362,  40.8911,  15.9698,  33.9607,  79.8184,  12.9588, -17.2067,\n",
            "            4.8298,  -9.0501,  20.0467,   7.9098, -12.6031, -51.3472,  57.7845,\n",
            "           -9.8913,  25.0812,  22.6545, -13.8879,  13.2801,   7.3656, -17.2055,\n",
            "           -6.9377,  -9.4232,  -6.2346,  -1.5899,  49.7612, -21.4859, -23.5156,\n",
            "           11.1966,  22.3937,  -5.2004,  21.5825, -22.9864,  19.6348, -29.3542,\n",
            "           19.9612,   2.6658,  45.5897, -10.2785,   0.1949,   0.6269,  -1.9348,\n",
            "           -2.0601,  26.9381,   4.6126,  24.8116, -26.8643,  29.5946,  12.4280,\n",
            "           -6.9286,  -3.4595,  11.8679,  -2.4500,   2.4788,  -1.3225, -11.7394,\n",
            "          -12.7032,  -5.6960, -31.1581,  10.9042, -14.4277,  43.5665,   4.1047,\n",
            "            4.2039, -15.7002,   5.3017,  26.0352,  -6.3240, -18.7083, -15.7996,\n",
            "          -16.3717,  72.8193,  26.8977, -27.8747,  21.1543,  -5.2419,  -3.8424,\n",
            "           -7.0414,   5.7848,   6.7884, -27.4104,  42.0165, -31.0556,  27.5702,\n",
            "          -38.6976,  -4.8096,  50.5492, -12.8988, -14.1984,  -4.8307,   6.2387,\n",
            "          -49.2995,  -6.7425,   3.2484,  16.6502, -27.2695,  -9.1037,   6.4300,\n",
            "            0.5236,  33.1932, -13.6428,  37.5699, -11.0957,  10.9640, -23.6967,\n",
            "           21.8461, -15.4640,  24.6607, -18.2353,  12.7339, -26.9012, -23.3913,\n",
            "           66.7460, -16.4109, -17.4622,  21.3298, -20.4026, -37.2483,   4.8611,\n",
            "            1.4236, -36.9083, -74.1517,  16.3233,   4.5939,  -3.2980,   1.8158,\n",
            "           -7.3409,  33.1942,   2.6816,  32.9034,  24.5222, -19.6484,   6.5912,\n",
            "            4.6285,  27.5485,  20.3999, -64.9154,  -8.4406,   4.3080,   8.6328,\n",
            "           23.1844,  37.5696,  61.8931,  34.7665,   3.0874,  21.6759,  -8.9344,\n",
            "          -26.9122,  19.8771,  31.4304,  33.8187, -41.8890, -25.5471,  -1.7617,\n",
            "            4.9796,  36.6128,   5.3431]]])\n"
          ]
        }
      ]
    },
    {
      "cell_type": "code",
      "source": [
        "from speechbrain.inference.speaker import SpeakerRecognition\n",
        "verification = SpeakerRecognition.from_hparams(source=\"speechbrain/spkrec-ecapa-voxceleb\", savedir=\"pretrained_models/spkrec-ecapa-voxceleb\")\n",
        "score, prediction = verification.verify_files(\"84.wav\", \"8.wav\") # Different Speakers\n",
        "print(prediction)\n",
        "score, prediction = verification.verify_files(\"3.wav\", \"6.wav\") # Same Speaker\n",
        "print(prediction)"
      ],
      "metadata": {
        "colab": {
          "base_uri": "https://localhost:8080/"
        },
        "id": "6ph5d1Bd4omD",
        "outputId": "9d63bbd1-e10b-4fae-b673-7d30c48aa34e"
      },
      "execution_count": 15,
      "outputs": [
        {
          "output_type": "stream",
          "name": "stdout",
          "text": [
            "tensor([False])\n",
            "tensor([True])\n"
          ]
        }
      ]
    },
    {
      "cell_type": "code",
      "source": [],
      "metadata": {
        "id": "10OqARKf5Kk0"
      },
      "execution_count": null,
      "outputs": []
    }
  ]
}